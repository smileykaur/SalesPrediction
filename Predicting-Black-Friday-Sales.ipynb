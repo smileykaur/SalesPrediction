{
 "cells": [
  {
   "cell_type": "markdown",
   "metadata": {},
   "source": [
    "# Black Friday Price Prediction\n",
    "\n",
    "## Problem Definition:\n",
    "\n",
    "The challenge is to predict purchase prices of various products purchased by customers based on historical purchase patterns. The data contained features like age, gender, marital status, categories of products purchased, city demographics etc.\n"
   ]
  },
  {
   "cell_type": "code",
   "execution_count": 1,
   "metadata": {
    "collapsed": true
   },
   "outputs": [],
   "source": [
    "# Common Imports\n",
    "import numpy as np\n",
    "import pandas as pd\n",
    "import sklearn\n",
    "import seaborn as sns\n",
    "import matplotlib.pyplot as plt\n",
    "import numpy.random as rnd\n",
    "import warnings\n",
    "%matplotlib inline\n",
    "\n",
    "# setting style\n",
    "sns.set_style(\"whitegrid\")\n",
    "warnings.filterwarnings('ignore')\n",
    "\n",
    "# to make this notebook's output stable across runs\n",
    "rnd.seed(42)\n",
    "\n",
    "# To plot pretty figures\n",
    "plt.rcParams['axes.labelsize'] = 14\n",
    "plt.rcParams['xtick.labelsize'] = 12\n",
    "plt.rcParams['ytick.labelsize'] = 12"
   ]
  },
  {
   "cell_type": "markdown",
   "metadata": {},
   "source": [
    "## Part I. Data Ingestion"
   ]
  },
  {
   "cell_type": "markdown",
   "metadata": {},
   "source": [
    "#### Settting Working Directories"
   ]
  },
  {
   "cell_type": "code",
   "execution_count": 5,
   "metadata": {
    "collapsed": true
   },
   "outputs": [],
   "source": [
    "import os\n",
    "# working directory\n",
    "project_directory=os.getcwd()\n",
    "\n",
    "# data directory\n",
    "data_directory=os.path.join(project_directory,\"Data\")\n",
    "graph_directory=os.path.join(project_directory,\"graph\")\n",
    "\n",
    "# create directory for graphs\n",
    "#os.makedirs(graph_directory)\n",
    "\n",
    "# save the figues\n",
    "def save_fig(fig_id, tight_layout=True):\n",
    "    path = os.path.join(project_directory, \"images\", graph_directory, fig_id + \".png\")\n",
    "    print(\"Saving graph\", fig_id)\n",
    "    if tight_layout:\n",
    "        plt.tight_layout()\n",
    "    plt.savefig(path, format='png', dpi=300)"
   ]
  },
  {
   "cell_type": "markdown",
   "metadata": {},
   "source": [
    "#### Setting Dataset Paths"
   ]
  },
  {
   "cell_type": "code",
   "execution_count": 6,
   "metadata": {
    "collapsed": true
   },
   "outputs": [],
   "source": [
    "# dataset\n",
    "dataset_url = \"https://github.com/smileykaur/SalesPrediction/blob/master/\"\n",
    "train = \"train.zip\"\n",
    "test = \"test.zip\""
   ]
  },
  {
   "cell_type": "markdown",
   "metadata": {},
   "source": [
    "#### Extracting Data from URL"
   ]
  },
  {
   "cell_type": "code",
   "execution_count": 7,
   "metadata": {
    "collapsed": true
   },
   "outputs": [],
   "source": [
    "import zipfile\n",
    "from six.moves import urllib\n",
    "\n",
    "# data extraction\n",
    "def fetch_data(data_path=data_directory, Type=train):\n",
    "    if not os.path.exists(data_directory):\n",
    "        os.makedirs(data_directory)\n",
    "    tgz_path = os.path.join(data_directory,Type)    \n",
    "    data_url = dataset_url + Type\n",
    "    #print(data_url, tgz_path)\n",
    "    urllib.request.urlretrieve(data_url, tgz_path)\n",
    "    data_tgz = zipfile.ZipFile(tgz_path,'r')\n",
    "    data_tgz.extractall(path=data_path)\n",
    "    data_tgz.close()"
   ]
  },
  {
   "cell_type": "code",
   "execution_count": 31,
   "metadata": {},
   "outputs": [],
   "source": [
    "# fetch train data \n",
    "#fetch_data(train)\n",
    "df_train=pd.read_csv(data_directory+\"/\"+train)\n",
    "# fetch test data\n",
    "#fetch_data(test)\n",
    "df_test=pd.read_csv(data_directory+\"/\"+test)"
   ]
  },
  {
   "cell_type": "markdown",
   "metadata": {},
   "source": [
    "#### Extracting Data"
   ]
  },
  {
   "cell_type": "code",
   "execution_count": 9,
   "metadata": {
    "collapsed": true
   },
   "outputs": [],
   "source": [
    "def load_housing_data(data_path=data_directory, Type=train):\n",
    "    csv_path = os.path.join(data_path, Type)\n",
    "    return pd.read_csv(csv_path)"
   ]
  },
  {
   "cell_type": "markdown",
   "metadata": {},
   "source": [
    "#### Training Data"
   ]
  },
  {
   "cell_type": "code",
   "execution_count": 10,
   "metadata": {},
   "outputs": [
    {
     "data": {
      "text/html": [
       "<div>\n",
       "<style>\n",
       "    .dataframe thead tr:only-child th {\n",
       "        text-align: right;\n",
       "    }\n",
       "\n",
       "    .dataframe thead th {\n",
       "        text-align: left;\n",
       "    }\n",
       "\n",
       "    .dataframe tbody tr th {\n",
       "        vertical-align: top;\n",
       "    }\n",
       "</style>\n",
       "<table border=\"1\" class=\"dataframe\">\n",
       "  <thead>\n",
       "    <tr style=\"text-align: right;\">\n",
       "      <th></th>\n",
       "      <th>User_ID</th>\n",
       "      <th>Product_ID</th>\n",
       "      <th>Gender</th>\n",
       "      <th>Age</th>\n",
       "      <th>Occupation</th>\n",
       "      <th>City_Category</th>\n",
       "      <th>Stay_In_Current_City_Years</th>\n",
       "      <th>Marital_Status</th>\n",
       "      <th>Product_Category_1</th>\n",
       "      <th>Product_Category_2</th>\n",
       "      <th>Product_Category_3</th>\n",
       "      <th>Purchase</th>\n",
       "    </tr>\n",
       "  </thead>\n",
       "  <tbody>\n",
       "    <tr>\n",
       "      <th>0</th>\n",
       "      <td>1000001</td>\n",
       "      <td>P00069042</td>\n",
       "      <td>F</td>\n",
       "      <td>0-17</td>\n",
       "      <td>10</td>\n",
       "      <td>A</td>\n",
       "      <td>2</td>\n",
       "      <td>0</td>\n",
       "      <td>3</td>\n",
       "      <td>NaN</td>\n",
       "      <td>NaN</td>\n",
       "      <td>8370</td>\n",
       "    </tr>\n",
       "    <tr>\n",
       "      <th>1</th>\n",
       "      <td>1000001</td>\n",
       "      <td>P00248942</td>\n",
       "      <td>F</td>\n",
       "      <td>0-17</td>\n",
       "      <td>10</td>\n",
       "      <td>A</td>\n",
       "      <td>2</td>\n",
       "      <td>0</td>\n",
       "      <td>1</td>\n",
       "      <td>6.0</td>\n",
       "      <td>14.0</td>\n",
       "      <td>15200</td>\n",
       "    </tr>\n",
       "    <tr>\n",
       "      <th>2</th>\n",
       "      <td>1000001</td>\n",
       "      <td>P00087842</td>\n",
       "      <td>F</td>\n",
       "      <td>0-17</td>\n",
       "      <td>10</td>\n",
       "      <td>A</td>\n",
       "      <td>2</td>\n",
       "      <td>0</td>\n",
       "      <td>12</td>\n",
       "      <td>NaN</td>\n",
       "      <td>NaN</td>\n",
       "      <td>1422</td>\n",
       "    </tr>\n",
       "    <tr>\n",
       "      <th>3</th>\n",
       "      <td>1000001</td>\n",
       "      <td>P00085442</td>\n",
       "      <td>F</td>\n",
       "      <td>0-17</td>\n",
       "      <td>10</td>\n",
       "      <td>A</td>\n",
       "      <td>2</td>\n",
       "      <td>0</td>\n",
       "      <td>12</td>\n",
       "      <td>14.0</td>\n",
       "      <td>NaN</td>\n",
       "      <td>1057</td>\n",
       "    </tr>\n",
       "    <tr>\n",
       "      <th>4</th>\n",
       "      <td>1000002</td>\n",
       "      <td>P00285442</td>\n",
       "      <td>M</td>\n",
       "      <td>55+</td>\n",
       "      <td>16</td>\n",
       "      <td>C</td>\n",
       "      <td>4+</td>\n",
       "      <td>0</td>\n",
       "      <td>8</td>\n",
       "      <td>NaN</td>\n",
       "      <td>NaN</td>\n",
       "      <td>7969</td>\n",
       "    </tr>\n",
       "  </tbody>\n",
       "</table>\n",
       "</div>"
      ],
      "text/plain": [
       "   User_ID Product_ID Gender   Age  Occupation City_Category  \\\n",
       "0  1000001  P00069042      F  0-17          10             A   \n",
       "1  1000001  P00248942      F  0-17          10             A   \n",
       "2  1000001  P00087842      F  0-17          10             A   \n",
       "3  1000001  P00085442      F  0-17          10             A   \n",
       "4  1000002  P00285442      M   55+          16             C   \n",
       "\n",
       "  Stay_In_Current_City_Years  Marital_Status  Product_Category_1  \\\n",
       "0                          2               0                   3   \n",
       "1                          2               0                   1   \n",
       "2                          2               0                  12   \n",
       "3                          2               0                  12   \n",
       "4                         4+               0                   8   \n",
       "\n",
       "   Product_Category_2  Product_Category_3  Purchase  \n",
       "0                 NaN                 NaN      8370  \n",
       "1                 6.0                14.0     15200  \n",
       "2                 NaN                 NaN      1422  \n",
       "3                14.0                 NaN      1057  \n",
       "4                 NaN                 NaN      7969  "
      ]
     },
     "execution_count": 10,
     "metadata": {},
     "output_type": "execute_result"
    }
   ],
   "source": [
    "df_train.head(5)"
   ]
  },
  {
   "cell_type": "markdown",
   "metadata": {},
   "source": [
    "#### Test Data"
   ]
  },
  {
   "cell_type": "code",
   "execution_count": 11,
   "metadata": {},
   "outputs": [
    {
     "data": {
      "text/html": [
       "<div>\n",
       "<style>\n",
       "    .dataframe thead tr:only-child th {\n",
       "        text-align: right;\n",
       "    }\n",
       "\n",
       "    .dataframe thead th {\n",
       "        text-align: left;\n",
       "    }\n",
       "\n",
       "    .dataframe tbody tr th {\n",
       "        vertical-align: top;\n",
       "    }\n",
       "</style>\n",
       "<table border=\"1\" class=\"dataframe\">\n",
       "  <thead>\n",
       "    <tr style=\"text-align: right;\">\n",
       "      <th></th>\n",
       "      <th>User_ID</th>\n",
       "      <th>Product_ID</th>\n",
       "      <th>Gender</th>\n",
       "      <th>Age</th>\n",
       "      <th>Occupation</th>\n",
       "      <th>City_Category</th>\n",
       "      <th>Stay_In_Current_City_Years</th>\n",
       "      <th>Marital_Status</th>\n",
       "      <th>Product_Category_1</th>\n",
       "      <th>Product_Category_2</th>\n",
       "      <th>Product_Category_3</th>\n",
       "    </tr>\n",
       "  </thead>\n",
       "  <tbody>\n",
       "    <tr>\n",
       "      <th>0</th>\n",
       "      <td>1000004</td>\n",
       "      <td>P00128942</td>\n",
       "      <td>M</td>\n",
       "      <td>46-50</td>\n",
       "      <td>7</td>\n",
       "      <td>B</td>\n",
       "      <td>2</td>\n",
       "      <td>1</td>\n",
       "      <td>1</td>\n",
       "      <td>11.0</td>\n",
       "      <td>NaN</td>\n",
       "    </tr>\n",
       "    <tr>\n",
       "      <th>1</th>\n",
       "      <td>1000009</td>\n",
       "      <td>P00113442</td>\n",
       "      <td>M</td>\n",
       "      <td>26-35</td>\n",
       "      <td>17</td>\n",
       "      <td>C</td>\n",
       "      <td>0</td>\n",
       "      <td>0</td>\n",
       "      <td>3</td>\n",
       "      <td>5.0</td>\n",
       "      <td>NaN</td>\n",
       "    </tr>\n",
       "    <tr>\n",
       "      <th>2</th>\n",
       "      <td>1000010</td>\n",
       "      <td>P00288442</td>\n",
       "      <td>F</td>\n",
       "      <td>36-45</td>\n",
       "      <td>1</td>\n",
       "      <td>B</td>\n",
       "      <td>4+</td>\n",
       "      <td>1</td>\n",
       "      <td>5</td>\n",
       "      <td>14.0</td>\n",
       "      <td>NaN</td>\n",
       "    </tr>\n",
       "    <tr>\n",
       "      <th>3</th>\n",
       "      <td>1000010</td>\n",
       "      <td>P00145342</td>\n",
       "      <td>F</td>\n",
       "      <td>36-45</td>\n",
       "      <td>1</td>\n",
       "      <td>B</td>\n",
       "      <td>4+</td>\n",
       "      <td>1</td>\n",
       "      <td>4</td>\n",
       "      <td>9.0</td>\n",
       "      <td>NaN</td>\n",
       "    </tr>\n",
       "    <tr>\n",
       "      <th>4</th>\n",
       "      <td>1000011</td>\n",
       "      <td>P00053842</td>\n",
       "      <td>F</td>\n",
       "      <td>26-35</td>\n",
       "      <td>1</td>\n",
       "      <td>C</td>\n",
       "      <td>1</td>\n",
       "      <td>0</td>\n",
       "      <td>4</td>\n",
       "      <td>5.0</td>\n",
       "      <td>12.0</td>\n",
       "    </tr>\n",
       "  </tbody>\n",
       "</table>\n",
       "</div>"
      ],
      "text/plain": [
       "   User_ID Product_ID Gender    Age  Occupation City_Category  \\\n",
       "0  1000004  P00128942      M  46-50           7             B   \n",
       "1  1000009  P00113442      M  26-35          17             C   \n",
       "2  1000010  P00288442      F  36-45           1             B   \n",
       "3  1000010  P00145342      F  36-45           1             B   \n",
       "4  1000011  P00053842      F  26-35           1             C   \n",
       "\n",
       "  Stay_In_Current_City_Years  Marital_Status  Product_Category_1  \\\n",
       "0                          2               1                   1   \n",
       "1                          0               0                   3   \n",
       "2                         4+               1                   5   \n",
       "3                         4+               1                   4   \n",
       "4                          1               0                   4   \n",
       "\n",
       "   Product_Category_2  Product_Category_3  \n",
       "0                11.0                 NaN  \n",
       "1                 5.0                 NaN  \n",
       "2                14.0                 NaN  \n",
       "3                 9.0                 NaN  \n",
       "4                 5.0                12.0  "
      ]
     },
     "execution_count": 11,
     "metadata": {},
     "output_type": "execute_result"
    }
   ],
   "source": [
    "df_test.head(5)"
   ]
  },
  {
   "cell_type": "code",
   "execution_count": 12,
   "metadata": {},
   "outputs": [
    {
     "data": {
      "text/plain": [
       "((550068, 12), (233599, 11))"
      ]
     },
     "execution_count": 12,
     "metadata": {},
     "output_type": "execute_result"
    }
   ],
   "source": [
    "df_train.shape, df_test.shape"
   ]
  },
  {
   "cell_type": "markdown",
   "metadata": {},
   "source": [
    "#### Knowing Data Columns\n",
    "\n",
    "['User_ID', 'Product_ID', 'Gender', 'Age', 'Occupation', 'City_Category', 'Stay_In_Current_City_Years', 'Marital_Status', 'Product_Category_1', 'Product_Category_2', 'Product_Category_3', 'Purchase'] "
   ]
  },
  {
   "cell_type": "markdown",
   "metadata": {},
   "source": [
    "#### Understanding Data Type"
   ]
  },
  {
   "cell_type": "code",
   "execution_count": 18,
   "metadata": {},
   "outputs": [
    {
     "name": "stdout",
     "output_type": "stream",
     "text": [
      "<class 'pandas.core.frame.DataFrame'>\n",
      "RangeIndex: 550068 entries, 0 to 550067\n",
      "Data columns (total 12 columns):\n",
      "User_ID                       550068 non-null int64\n",
      "Product_ID                    550068 non-null object\n",
      "Gender                        550068 non-null object\n",
      "Age                           550068 non-null object\n",
      "Occupation                    550068 non-null int64\n",
      "City_Category                 550068 non-null object\n",
      "Stay_In_Current_City_Years    550068 non-null object\n",
      "Marital_Status                550068 non-null int64\n",
      "Product_Category_1            550068 non-null int64\n",
      "Product_Category_2            376430 non-null float64\n",
      "Product_Category_3            166821 non-null float64\n",
      "Purchase                      550068 non-null int64\n",
      "dtypes: float64(2), int64(5), object(5)\n",
      "memory usage: 50.4+ MB\n"
     ]
    }
   ],
   "source": [
    "# get information about columns in the dataframe\n",
    "df_train.info()"
   ]
  },
  {
   "cell_type": "markdown",
   "metadata": {},
   "source": [
    "Data Category:\n",
    "- **float64(1)**\n",
    "- **int64(9)**\n",
    "- **object(4)**"
   ]
  },
  {
   "cell_type": "markdown",
   "metadata": {},
   "source": [
    "#### Finding Statistical Information"
   ]
  },
  {
   "cell_type": "code",
   "execution_count": 19,
   "metadata": {},
   "outputs": [
    {
     "data": {
      "text/html": [
       "<div>\n",
       "<style>\n",
       "    .dataframe thead tr:only-child th {\n",
       "        text-align: right;\n",
       "    }\n",
       "\n",
       "    .dataframe thead th {\n",
       "        text-align: left;\n",
       "    }\n",
       "\n",
       "    .dataframe tbody tr th {\n",
       "        vertical-align: top;\n",
       "    }\n",
       "</style>\n",
       "<table border=\"1\" class=\"dataframe\">\n",
       "  <thead>\n",
       "    <tr style=\"text-align: right;\">\n",
       "      <th></th>\n",
       "      <th>User_ID</th>\n",
       "      <th>Occupation</th>\n",
       "      <th>Marital_Status</th>\n",
       "      <th>Product_Category_1</th>\n",
       "      <th>Product_Category_2</th>\n",
       "      <th>Product_Category_3</th>\n",
       "      <th>Purchase</th>\n",
       "    </tr>\n",
       "  </thead>\n",
       "  <tbody>\n",
       "    <tr>\n",
       "      <th>count</th>\n",
       "      <td>5.500680e+05</td>\n",
       "      <td>550068.000000</td>\n",
       "      <td>550068.000000</td>\n",
       "      <td>550068.000000</td>\n",
       "      <td>376430.000000</td>\n",
       "      <td>166821.000000</td>\n",
       "      <td>550068.000000</td>\n",
       "    </tr>\n",
       "    <tr>\n",
       "      <th>mean</th>\n",
       "      <td>1.003029e+06</td>\n",
       "      <td>8.076707</td>\n",
       "      <td>0.409653</td>\n",
       "      <td>5.404270</td>\n",
       "      <td>9.842329</td>\n",
       "      <td>12.668243</td>\n",
       "      <td>9263.968713</td>\n",
       "    </tr>\n",
       "    <tr>\n",
       "      <th>std</th>\n",
       "      <td>1.727592e+03</td>\n",
       "      <td>6.522660</td>\n",
       "      <td>0.491770</td>\n",
       "      <td>3.936211</td>\n",
       "      <td>5.086590</td>\n",
       "      <td>4.125338</td>\n",
       "      <td>5023.065394</td>\n",
       "    </tr>\n",
       "    <tr>\n",
       "      <th>min</th>\n",
       "      <td>1.000001e+06</td>\n",
       "      <td>0.000000</td>\n",
       "      <td>0.000000</td>\n",
       "      <td>1.000000</td>\n",
       "      <td>2.000000</td>\n",
       "      <td>3.000000</td>\n",
       "      <td>12.000000</td>\n",
       "    </tr>\n",
       "    <tr>\n",
       "      <th>25%</th>\n",
       "      <td>1.001516e+06</td>\n",
       "      <td>2.000000</td>\n",
       "      <td>0.000000</td>\n",
       "      <td>1.000000</td>\n",
       "      <td>5.000000</td>\n",
       "      <td>9.000000</td>\n",
       "      <td>5823.000000</td>\n",
       "    </tr>\n",
       "    <tr>\n",
       "      <th>50%</th>\n",
       "      <td>1.003077e+06</td>\n",
       "      <td>7.000000</td>\n",
       "      <td>0.000000</td>\n",
       "      <td>5.000000</td>\n",
       "      <td>9.000000</td>\n",
       "      <td>14.000000</td>\n",
       "      <td>8047.000000</td>\n",
       "    </tr>\n",
       "    <tr>\n",
       "      <th>75%</th>\n",
       "      <td>1.004478e+06</td>\n",
       "      <td>14.000000</td>\n",
       "      <td>1.000000</td>\n",
       "      <td>8.000000</td>\n",
       "      <td>15.000000</td>\n",
       "      <td>16.000000</td>\n",
       "      <td>12054.000000</td>\n",
       "    </tr>\n",
       "    <tr>\n",
       "      <th>max</th>\n",
       "      <td>1.006040e+06</td>\n",
       "      <td>20.000000</td>\n",
       "      <td>1.000000</td>\n",
       "      <td>20.000000</td>\n",
       "      <td>18.000000</td>\n",
       "      <td>18.000000</td>\n",
       "      <td>23961.000000</td>\n",
       "    </tr>\n",
       "  </tbody>\n",
       "</table>\n",
       "</div>"
      ],
      "text/plain": [
       "            User_ID     Occupation  Marital_Status  Product_Category_1  \\\n",
       "count  5.500680e+05  550068.000000   550068.000000       550068.000000   \n",
       "mean   1.003029e+06       8.076707        0.409653            5.404270   \n",
       "std    1.727592e+03       6.522660        0.491770            3.936211   \n",
       "min    1.000001e+06       0.000000        0.000000            1.000000   \n",
       "25%    1.001516e+06       2.000000        0.000000            1.000000   \n",
       "50%    1.003077e+06       7.000000        0.000000            5.000000   \n",
       "75%    1.004478e+06      14.000000        1.000000            8.000000   \n",
       "max    1.006040e+06      20.000000        1.000000           20.000000   \n",
       "\n",
       "       Product_Category_2  Product_Category_3       Purchase  \n",
       "count       376430.000000       166821.000000  550068.000000  \n",
       "mean             9.842329           12.668243    9263.968713  \n",
       "std              5.086590            4.125338    5023.065394  \n",
       "min              2.000000            3.000000      12.000000  \n",
       "25%              5.000000            9.000000    5823.000000  \n",
       "50%              9.000000           14.000000    8047.000000  \n",
       "75%             15.000000           16.000000   12054.000000  \n",
       "max             18.000000           18.000000   23961.000000  "
      ]
     },
     "execution_count": 19,
     "metadata": {},
     "output_type": "execute_result"
    }
   ],
   "source": [
    "# get statistical information about data in the columns\n",
    "df_train.describe()"
   ]
  },
  {
   "cell_type": "markdown",
   "metadata": {},
   "source": [
    "#### Understanding Test Data"
   ]
  },
  {
   "cell_type": "code",
   "execution_count": 13,
   "metadata": {},
   "outputs": [
    {
     "name": "stdout",
     "output_type": "stream",
     "text": [
      "<class 'pandas.core.frame.DataFrame'>\n",
      "RangeIndex: 233599 entries, 0 to 233598\n",
      "Data columns (total 11 columns):\n",
      "User_ID                       233599 non-null int64\n",
      "Product_ID                    233599 non-null object\n",
      "Gender                        233599 non-null object\n",
      "Age                           233599 non-null object\n",
      "Occupation                    233599 non-null int64\n",
      "City_Category                 233599 non-null object\n",
      "Stay_In_Current_City_Years    233599 non-null object\n",
      "Marital_Status                233599 non-null int64\n",
      "Product_Category_1            233599 non-null int64\n",
      "Product_Category_2            161255 non-null float64\n",
      "Product_Category_3            71037 non-null float64\n",
      "dtypes: float64(2), int64(4), object(5)\n",
      "memory usage: 19.6+ MB\n"
     ]
    }
   ],
   "source": [
    "# get information about columns in the dataframe\n",
    "df_test.info()"
   ]
  },
  {
   "cell_type": "code",
   "execution_count": 14,
   "metadata": {},
   "outputs": [
    {
     "data": {
      "text/html": [
       "<div>\n",
       "<style>\n",
       "    .dataframe thead tr:only-child th {\n",
       "        text-align: right;\n",
       "    }\n",
       "\n",
       "    .dataframe thead th {\n",
       "        text-align: left;\n",
       "    }\n",
       "\n",
       "    .dataframe tbody tr th {\n",
       "        vertical-align: top;\n",
       "    }\n",
       "</style>\n",
       "<table border=\"1\" class=\"dataframe\">\n",
       "  <thead>\n",
       "    <tr style=\"text-align: right;\">\n",
       "      <th></th>\n",
       "      <th>User_ID</th>\n",
       "      <th>Occupation</th>\n",
       "      <th>Marital_Status</th>\n",
       "      <th>Product_Category_1</th>\n",
       "      <th>Product_Category_2</th>\n",
       "      <th>Product_Category_3</th>\n",
       "    </tr>\n",
       "  </thead>\n",
       "  <tbody>\n",
       "    <tr>\n",
       "      <th>count</th>\n",
       "      <td>2.335990e+05</td>\n",
       "      <td>233599.000000</td>\n",
       "      <td>233599.000000</td>\n",
       "      <td>233599.000000</td>\n",
       "      <td>161255.000000</td>\n",
       "      <td>71037.000000</td>\n",
       "    </tr>\n",
       "    <tr>\n",
       "      <th>mean</th>\n",
       "      <td>1.003029e+06</td>\n",
       "      <td>8.085407</td>\n",
       "      <td>0.410070</td>\n",
       "      <td>5.276542</td>\n",
       "      <td>9.849586</td>\n",
       "      <td>12.669454</td>\n",
       "    </tr>\n",
       "    <tr>\n",
       "      <th>std</th>\n",
       "      <td>1.726505e+03</td>\n",
       "      <td>6.521146</td>\n",
       "      <td>0.491847</td>\n",
       "      <td>3.736380</td>\n",
       "      <td>5.094943</td>\n",
       "      <td>4.125944</td>\n",
       "    </tr>\n",
       "    <tr>\n",
       "      <th>min</th>\n",
       "      <td>1.000001e+06</td>\n",
       "      <td>0.000000</td>\n",
       "      <td>0.000000</td>\n",
       "      <td>1.000000</td>\n",
       "      <td>2.000000</td>\n",
       "      <td>3.000000</td>\n",
       "    </tr>\n",
       "    <tr>\n",
       "      <th>25%</th>\n",
       "      <td>1.001527e+06</td>\n",
       "      <td>2.000000</td>\n",
       "      <td>0.000000</td>\n",
       "      <td>1.000000</td>\n",
       "      <td>5.000000</td>\n",
       "      <td>9.000000</td>\n",
       "    </tr>\n",
       "    <tr>\n",
       "      <th>50%</th>\n",
       "      <td>1.003070e+06</td>\n",
       "      <td>7.000000</td>\n",
       "      <td>0.000000</td>\n",
       "      <td>5.000000</td>\n",
       "      <td>9.000000</td>\n",
       "      <td>14.000000</td>\n",
       "    </tr>\n",
       "    <tr>\n",
       "      <th>75%</th>\n",
       "      <td>1.004477e+06</td>\n",
       "      <td>14.000000</td>\n",
       "      <td>1.000000</td>\n",
       "      <td>8.000000</td>\n",
       "      <td>15.000000</td>\n",
       "      <td>16.000000</td>\n",
       "    </tr>\n",
       "    <tr>\n",
       "      <th>max</th>\n",
       "      <td>1.006040e+06</td>\n",
       "      <td>20.000000</td>\n",
       "      <td>1.000000</td>\n",
       "      <td>18.000000</td>\n",
       "      <td>18.000000</td>\n",
       "      <td>18.000000</td>\n",
       "    </tr>\n",
       "  </tbody>\n",
       "</table>\n",
       "</div>"
      ],
      "text/plain": [
       "            User_ID     Occupation  Marital_Status  Product_Category_1  \\\n",
       "count  2.335990e+05  233599.000000   233599.000000       233599.000000   \n",
       "mean   1.003029e+06       8.085407        0.410070            5.276542   \n",
       "std    1.726505e+03       6.521146        0.491847            3.736380   \n",
       "min    1.000001e+06       0.000000        0.000000            1.000000   \n",
       "25%    1.001527e+06       2.000000        0.000000            1.000000   \n",
       "50%    1.003070e+06       7.000000        0.000000            5.000000   \n",
       "75%    1.004477e+06      14.000000        1.000000            8.000000   \n",
       "max    1.006040e+06      20.000000        1.000000           18.000000   \n",
       "\n",
       "       Product_Category_2  Product_Category_3  \n",
       "count       161255.000000        71037.000000  \n",
       "mean             9.849586           12.669454  \n",
       "std              5.094943            4.125944  \n",
       "min              2.000000            3.000000  \n",
       "25%              5.000000            9.000000  \n",
       "50%              9.000000           14.000000  \n",
       "75%             15.000000           16.000000  \n",
       "max             18.000000           18.000000  "
      ]
     },
     "execution_count": 14,
     "metadata": {},
     "output_type": "execute_result"
    }
   ],
   "source": [
    "# get statistical information about data in the columns\n",
    "df_test.describe()"
   ]
  },
  {
   "cell_type": "markdown",
   "metadata": {},
   "source": [
    "## Part II. Data Wrangling"
   ]
  },
  {
   "cell_type": "markdown",
   "metadata": {},
   "source": [
    "#### Checking Unique data points"
   ]
  },
  {
   "cell_type": "code",
   "execution_count": 15,
   "metadata": {},
   "outputs": [
    {
     "data": {
      "text/plain": [
       "User_ID                        5891\n",
       "Product_ID                     3631\n",
       "Gender                            2\n",
       "Age                               7\n",
       "Occupation                       21\n",
       "City_Category                     3\n",
       "Stay_In_Current_City_Years        5\n",
       "Marital_Status                    2\n",
       "Product_Category_1               20\n",
       "Product_Category_2               18\n",
       "Product_Category_3               16\n",
       "Purchase                      18105\n",
       "dtype: int64"
      ]
     },
     "execution_count": 15,
     "metadata": {},
     "output_type": "execute_result"
    }
   ],
   "source": [
    "# checking unique values and categories\n",
    "df_train.apply(lambda x: len(x.unique()))"
   ]
  },
  {
   "cell_type": "markdown",
   "metadata": {},
   "source": [
    "This shows there are **5891** customers and purchase of **3631** products. There are 3 types of city and 21 types of occupation, but no information about how they differ. There are 20 different types of product, and 3631 different products. There are 5 different catergories in the stay in current city column. Let's take a closer look at the individual columns."
   ]
  },
  {
   "cell_type": "markdown",
   "metadata": {},
   "source": [
    "### A. Data Analysis "
   ]
  },
  {
   "cell_type": "markdown",
   "metadata": {},
   "source": [
    "#### Categorizing \"Stay_In_Current_City_Years\""
   ]
  },
  {
   "cell_type": "code",
   "execution_count": 16,
   "metadata": {
    "collapsed": true
   },
   "outputs": [],
   "source": [
    "def rep_stay_in_city(val):\n",
    "    # I'll convert the data to numeric and treat 4+ as 4. \n",
    "    replace_dict = {'0':0,'1':1,'2':2,'3':3,'4+':4}\n",
    "    return replace_dict[val]"
   ]
  },
  {
   "cell_type": "markdown",
   "metadata": {
    "collapsed": true
   },
   "source": [
    "#### Categorizing \"Age\""
   ]
  },
  {
   "cell_type": "code",
   "execution_count": 18,
   "metadata": {
    "collapsed": true
   },
   "outputs": [],
   "source": [
    "def rep_age(val):\n",
    "    # I'll convert the age category\n",
    "    replace_dict = {'0-17':14,'18-25':21,'26-35':30,'36-45':40,'46-50':48,'51-55':53, '55+':60}\n",
    "    return replace_dict[val]"
   ]
  },
  {
   "cell_type": "markdown",
   "metadata": {},
   "source": [
    "#### Average purchase by profession group"
   ]
  },
  {
   "cell_type": "code",
   "execution_count": 17,
   "metadata": {},
   "outputs": [
    {
     "data": {
      "text/html": [
       "<div>\n",
       "<style>\n",
       "    .dataframe thead tr:only-child th {\n",
       "        text-align: right;\n",
       "    }\n",
       "\n",
       "    .dataframe thead th {\n",
       "        text-align: left;\n",
       "    }\n",
       "\n",
       "    .dataframe tbody tr th {\n",
       "        vertical-align: top;\n",
       "    }\n",
       "</style>\n",
       "<table border=\"1\" class=\"dataframe\">\n",
       "  <thead>\n",
       "    <tr style=\"text-align: right;\">\n",
       "      <th></th>\n",
       "      <th>Purchase</th>\n",
       "    </tr>\n",
       "    <tr>\n",
       "      <th>Occupation</th>\n",
       "      <th></th>\n",
       "    </tr>\n",
       "  </thead>\n",
       "  <tbody>\n",
       "    <tr>\n",
       "      <th>17</th>\n",
       "      <td>9821.478236</td>\n",
       "    </tr>\n",
       "    <tr>\n",
       "      <th>12</th>\n",
       "      <td>9796.640239</td>\n",
       "    </tr>\n",
       "    <tr>\n",
       "      <th>15</th>\n",
       "      <td>9778.891163</td>\n",
       "    </tr>\n",
       "    <tr>\n",
       "      <th>8</th>\n",
       "      <td>9532.592497</td>\n",
       "    </tr>\n",
       "    <tr>\n",
       "      <th>14</th>\n",
       "      <td>9500.702772</td>\n",
       "    </tr>\n",
       "    <tr>\n",
       "      <th>7</th>\n",
       "      <td>9425.728223</td>\n",
       "    </tr>\n",
       "    <tr>\n",
       "      <th>16</th>\n",
       "      <td>9394.464349</td>\n",
       "    </tr>\n",
       "    <tr>\n",
       "      <th>5</th>\n",
       "      <td>9333.149298</td>\n",
       "    </tr>\n",
       "    <tr>\n",
       "      <th>13</th>\n",
       "      <td>9306.351061</td>\n",
       "    </tr>\n",
       "    <tr>\n",
       "      <th>6</th>\n",
       "      <td>9256.535691</td>\n",
       "    </tr>\n",
       "    <tr>\n",
       "      <th>4</th>\n",
       "      <td>9213.980251</td>\n",
       "    </tr>\n",
       "    <tr>\n",
       "      <th>11</th>\n",
       "      <td>9213.845848</td>\n",
       "    </tr>\n",
       "    <tr>\n",
       "      <th>3</th>\n",
       "      <td>9178.593088</td>\n",
       "    </tr>\n",
       "    <tr>\n",
       "      <th>18</th>\n",
       "      <td>9169.655844</td>\n",
       "    </tr>\n",
       "    <tr>\n",
       "      <th>0</th>\n",
       "      <td>9124.428588</td>\n",
       "    </tr>\n",
       "    <tr>\n",
       "      <th>10</th>\n",
       "      <td>8959.355375</td>\n",
       "    </tr>\n",
       "    <tr>\n",
       "      <th>1</th>\n",
       "      <td>8953.193270</td>\n",
       "    </tr>\n",
       "    <tr>\n",
       "      <th>2</th>\n",
       "      <td>8952.481683</td>\n",
       "    </tr>\n",
       "    <tr>\n",
       "      <th>20</th>\n",
       "      <td>8836.494905</td>\n",
       "    </tr>\n",
       "    <tr>\n",
       "      <th>19</th>\n",
       "      <td>8710.627231</td>\n",
       "    </tr>\n",
       "    <tr>\n",
       "      <th>9</th>\n",
       "      <td>8637.743761</td>\n",
       "    </tr>\n",
       "  </tbody>\n",
       "</table>\n",
       "</div>"
      ],
      "text/plain": [
       "               Purchase\n",
       "Occupation             \n",
       "17          9821.478236\n",
       "12          9796.640239\n",
       "15          9778.891163\n",
       "8           9532.592497\n",
       "14          9500.702772\n",
       "7           9425.728223\n",
       "16          9394.464349\n",
       "5           9333.149298\n",
       "13          9306.351061\n",
       "6           9256.535691\n",
       "4           9213.980251\n",
       "11          9213.845848\n",
       "3           9178.593088\n",
       "18          9169.655844\n",
       "0           9124.428588\n",
       "10          8959.355375\n",
       "1           8953.193270\n",
       "2           8952.481683\n",
       "20          8836.494905\n",
       "19          8710.627231\n",
       "9           8637.743761"
      ]
     },
     "execution_count": 17,
     "metadata": {},
     "output_type": "execute_result"
    }
   ],
   "source": [
    "# I explore average purchase by occupation. \n",
    "# The results below show that Occupation category 17, 12, 15 are top three spender\n",
    "occupation_group = df_train.pivot_table(values=[\"Purchase\"], index=[\"Occupation\"],aggfunc=np.mean)\n",
    "occupation_group.sort_values(by='Purchase', ascending=0)"
   ]
  },
  {
   "cell_type": "markdown",
   "metadata": {},
   "source": [
    "#### Categorizing Cities"
   ]
  },
  {
   "cell_type": "code",
   "execution_count": 19,
   "metadata": {},
   "outputs": [
    {
     "data": {
      "text/plain": [
       "array(['A', 'C', 'B'], dtype=object)"
      ]
     },
     "execution_count": 19,
     "metadata": {},
     "output_type": "execute_result"
    }
   ],
   "source": [
    "df_train[\"City_Category\"].unique()"
   ]
  },
  {
   "cell_type": "code",
   "execution_count": 20,
   "metadata": {},
   "outputs": [
    {
     "data": {
      "text/html": [
       "<div>\n",
       "<style>\n",
       "    .dataframe thead tr:only-child th {\n",
       "        text-align: right;\n",
       "    }\n",
       "\n",
       "    .dataframe thead th {\n",
       "        text-align: left;\n",
       "    }\n",
       "\n",
       "    .dataframe tbody tr th {\n",
       "        vertical-align: top;\n",
       "    }\n",
       "</style>\n",
       "<table border=\"1\" class=\"dataframe\">\n",
       "  <thead>\n",
       "    <tr style=\"text-align: right;\">\n",
       "      <th></th>\n",
       "      <th>Purchase</th>\n",
       "    </tr>\n",
       "    <tr>\n",
       "      <th>City_Category</th>\n",
       "      <th></th>\n",
       "    </tr>\n",
       "  </thead>\n",
       "  <tbody>\n",
       "    <tr>\n",
       "      <th>A</th>\n",
       "      <td>8911.939216</td>\n",
       "    </tr>\n",
       "    <tr>\n",
       "      <th>B</th>\n",
       "      <td>9151.300563</td>\n",
       "    </tr>\n",
       "    <tr>\n",
       "      <th>C</th>\n",
       "      <td>9719.920993</td>\n",
       "    </tr>\n",
       "  </tbody>\n",
       "</table>\n",
       "</div>"
      ],
      "text/plain": [
       "                  Purchase\n",
       "City_Category             \n",
       "A              8911.939216\n",
       "B              9151.300563\n",
       "C              9719.920993"
      ]
     },
     "execution_count": 20,
     "metadata": {},
     "output_type": "execute_result"
    }
   ],
   "source": [
    "# categorizing sale according to city\n",
    "df_train.pivot_table(values='Purchase', index='City_Category', aggfunc=np.mean)"
   ]
  },
  {
   "cell_type": "markdown",
   "metadata": {},
   "source": [
    "A and C are the lowest and highest spending cities respectively."
   ]
  },
  {
   "cell_type": "code",
   "execution_count": 21,
   "metadata": {},
   "outputs": [],
   "source": [
    "def data_analysis(data=df_train):    \n",
    "    # Stay in current city\n",
    "    data['Stay_In_Current_City_Years']= data['Stay_In_Current_City_Years'].apply(rep_stay_in_city)\n",
    "    \n",
    "    # Age Categories    \n",
    "    data['Age']=data['Age'].apply(rep_age)\n",
    "\n",
    "    # Converting Occupation to String - To be used as feature later\n",
    "    data.Occupation = data.Occupation.astype(str)"
   ]
  },
  {
   "cell_type": "markdown",
   "metadata": {},
   "source": [
    "### B. Missing Values - NaN, Empty "
   ]
  },
  {
   "cell_type": "markdown",
   "metadata": {},
   "source": [
    "#### Checking for columns with NaN values"
   ]
  },
  {
   "cell_type": "code",
   "execution_count": 22,
   "metadata": {},
   "outputs": [
    {
     "data": {
      "text/plain": [
       "User_ID                       False\n",
       "Product_ID                    False\n",
       "Gender                        False\n",
       "Age                           False\n",
       "Occupation                    False\n",
       "City_Category                 False\n",
       "Stay_In_Current_City_Years    False\n",
       "Marital_Status                False\n",
       "Product_Category_1            False\n",
       "Product_Category_2             True\n",
       "Product_Category_3             True\n",
       "Purchase                      False\n",
       "dtype: bool"
      ]
     },
     "execution_count": 22,
     "metadata": {},
     "output_type": "execute_result"
    }
   ],
   "source": [
    "# checking for NaN values\n",
    "df_train.isnull().any()"
   ]
  },
  {
   "cell_type": "markdown",
   "metadata": {},
   "source": [
    "##### Imputing \"Product_Category_2\" & \"Product_Category_3\""
   ]
  },
  {
   "cell_type": "code",
   "execution_count": 24,
   "metadata": {
    "collapsed": true
   },
   "outputs": [],
   "source": [
    "import math\n",
    "def impute_missing_values(data=df_train, features=features_2_impute):\n",
    "    # Fill mean as there are not many outliers in this category\n",
    "    # ref: https://stats.stackexchange.com/questions/143700/which-is-better-replacement-by-mean-and-replacement-by-median\n",
    "    for f in features:\n",
    "        data[f].fillna(math.ceil(data[f].mean()), inplace=True)\n",
    "    return data"
   ]
  },
  {
   "cell_type": "markdown",
   "metadata": {},
   "source": [
    "### C. Creating New Features"
   ]
  },
  {
   "cell_type": "code",
   "execution_count": 26,
   "metadata": {
    "collapsed": true
   },
   "outputs": [],
   "source": [
    "def new_features(data=df_train):\n",
    "    # Number of times a user made a purchase.\n",
    "    data['User_Count'] = data.groupby('User_ID').User_ID.transform('count')\n",
    "    # Number of times a product is purchased.\n",
    "    data['Product_Count'] = data.groupby('Product_ID').Product_ID.transform('count')"
   ]
  },
  {
   "cell_type": "markdown",
   "metadata": {},
   "source": [
    "### Kicking Data Cleaning"
   ]
  },
  {
   "cell_type": "code",
   "execution_count": 32,
   "metadata": {},
   "outputs": [],
   "source": [
    "def data_cleaning(data=df_train):\n",
    "    # perform data cleaning\n",
    "    data_analysis(data)\n",
    "    # perform imputation of missing values\n",
    "    impute_missing_values(data)\n",
    "    # create new fatures for data\n",
    "    new_features(data)\n",
    "\n",
    "# Features to impute\n",
    "features_2_impute=[\"Product_Category_2\",\"Product_Category_3\"]\n",
    "\n",
    "# Training Data\n",
    "data_cleaning(df_train)\n",
    "# Test Data\n",
    "data_cleaning(df_test)"
   ]
  },
  {
   "cell_type": "code",
   "execution_count": 33,
   "metadata": {},
   "outputs": [
    {
     "data": {
      "text/html": [
       "<div>\n",
       "<style>\n",
       "    .dataframe thead tr:only-child th {\n",
       "        text-align: right;\n",
       "    }\n",
       "\n",
       "    .dataframe thead th {\n",
       "        text-align: left;\n",
       "    }\n",
       "\n",
       "    .dataframe tbody tr th {\n",
       "        vertical-align: top;\n",
       "    }\n",
       "</style>\n",
       "<table border=\"1\" class=\"dataframe\">\n",
       "  <thead>\n",
       "    <tr style=\"text-align: right;\">\n",
       "      <th></th>\n",
       "      <th>User_ID</th>\n",
       "      <th>Product_ID</th>\n",
       "      <th>Gender</th>\n",
       "      <th>Age</th>\n",
       "      <th>Occupation</th>\n",
       "      <th>City_Category</th>\n",
       "      <th>Stay_In_Current_City_Years</th>\n",
       "      <th>Marital_Status</th>\n",
       "      <th>Product_Category_1</th>\n",
       "      <th>Product_Category_2</th>\n",
       "      <th>Product_Category_3</th>\n",
       "      <th>Purchase</th>\n",
       "      <th>User_Count</th>\n",
       "      <th>Product_Count</th>\n",
       "    </tr>\n",
       "  </thead>\n",
       "  <tbody>\n",
       "    <tr>\n",
       "      <th>0</th>\n",
       "      <td>1000001</td>\n",
       "      <td>P00069042</td>\n",
       "      <td>F</td>\n",
       "      <td>14</td>\n",
       "      <td>10</td>\n",
       "      <td>A</td>\n",
       "      <td>2</td>\n",
       "      <td>0</td>\n",
       "      <td>3</td>\n",
       "      <td>10.0</td>\n",
       "      <td>13.0</td>\n",
       "      <td>8370</td>\n",
       "      <td>35</td>\n",
       "      <td>227</td>\n",
       "    </tr>\n",
       "    <tr>\n",
       "      <th>1</th>\n",
       "      <td>1000001</td>\n",
       "      <td>P00248942</td>\n",
       "      <td>F</td>\n",
       "      <td>14</td>\n",
       "      <td>10</td>\n",
       "      <td>A</td>\n",
       "      <td>2</td>\n",
       "      <td>0</td>\n",
       "      <td>1</td>\n",
       "      <td>6.0</td>\n",
       "      <td>14.0</td>\n",
       "      <td>15200</td>\n",
       "      <td>35</td>\n",
       "      <td>581</td>\n",
       "    </tr>\n",
       "    <tr>\n",
       "      <th>2</th>\n",
       "      <td>1000001</td>\n",
       "      <td>P00087842</td>\n",
       "      <td>F</td>\n",
       "      <td>14</td>\n",
       "      <td>10</td>\n",
       "      <td>A</td>\n",
       "      <td>2</td>\n",
       "      <td>0</td>\n",
       "      <td>12</td>\n",
       "      <td>10.0</td>\n",
       "      <td>13.0</td>\n",
       "      <td>1422</td>\n",
       "      <td>35</td>\n",
       "      <td>102</td>\n",
       "    </tr>\n",
       "    <tr>\n",
       "      <th>3</th>\n",
       "      <td>1000001</td>\n",
       "      <td>P00085442</td>\n",
       "      <td>F</td>\n",
       "      <td>14</td>\n",
       "      <td>10</td>\n",
       "      <td>A</td>\n",
       "      <td>2</td>\n",
       "      <td>0</td>\n",
       "      <td>12</td>\n",
       "      <td>14.0</td>\n",
       "      <td>13.0</td>\n",
       "      <td>1057</td>\n",
       "      <td>35</td>\n",
       "      <td>341</td>\n",
       "    </tr>\n",
       "    <tr>\n",
       "      <th>4</th>\n",
       "      <td>1000002</td>\n",
       "      <td>P00285442</td>\n",
       "      <td>M</td>\n",
       "      <td>60</td>\n",
       "      <td>16</td>\n",
       "      <td>C</td>\n",
       "      <td>4</td>\n",
       "      <td>0</td>\n",
       "      <td>8</td>\n",
       "      <td>10.0</td>\n",
       "      <td>13.0</td>\n",
       "      <td>7969</td>\n",
       "      <td>77</td>\n",
       "      <td>203</td>\n",
       "    </tr>\n",
       "  </tbody>\n",
       "</table>\n",
       "</div>"
      ],
      "text/plain": [
       "   User_ID Product_ID Gender  Age Occupation City_Category  \\\n",
       "0  1000001  P00069042      F   14         10             A   \n",
       "1  1000001  P00248942      F   14         10             A   \n",
       "2  1000001  P00087842      F   14         10             A   \n",
       "3  1000001  P00085442      F   14         10             A   \n",
       "4  1000002  P00285442      M   60         16             C   \n",
       "\n",
       "   Stay_In_Current_City_Years  Marital_Status  Product_Category_1  \\\n",
       "0                           2               0                   3   \n",
       "1                           2               0                   1   \n",
       "2                           2               0                  12   \n",
       "3                           2               0                  12   \n",
       "4                           4               0                   8   \n",
       "\n",
       "   Product_Category_2  Product_Category_3  Purchase  User_Count  Product_Count  \n",
       "0                10.0                13.0      8370          35            227  \n",
       "1                 6.0                14.0     15200          35            581  \n",
       "2                10.0                13.0      1422          35            102  \n",
       "3                14.0                13.0      1057          35            341  \n",
       "4                10.0                13.0      7969          77            203  "
      ]
     },
     "execution_count": 33,
     "metadata": {},
     "output_type": "execute_result"
    }
   ],
   "source": [
    "df_train.head(5)"
   ]
  },
  {
   "cell_type": "code",
   "execution_count": 34,
   "metadata": {},
   "outputs": [
    {
     "data": {
      "text/html": [
       "<div>\n",
       "<style>\n",
       "    .dataframe thead tr:only-child th {\n",
       "        text-align: right;\n",
       "    }\n",
       "\n",
       "    .dataframe thead th {\n",
       "        text-align: left;\n",
       "    }\n",
       "\n",
       "    .dataframe tbody tr th {\n",
       "        vertical-align: top;\n",
       "    }\n",
       "</style>\n",
       "<table border=\"1\" class=\"dataframe\">\n",
       "  <thead>\n",
       "    <tr style=\"text-align: right;\">\n",
       "      <th></th>\n",
       "      <th>User_ID</th>\n",
       "      <th>Product_ID</th>\n",
       "      <th>Gender</th>\n",
       "      <th>Age</th>\n",
       "      <th>Occupation</th>\n",
       "      <th>City_Category</th>\n",
       "      <th>Stay_In_Current_City_Years</th>\n",
       "      <th>Marital_Status</th>\n",
       "      <th>Product_Category_1</th>\n",
       "      <th>Product_Category_2</th>\n",
       "      <th>Product_Category_3</th>\n",
       "      <th>User_Count</th>\n",
       "      <th>Product_Count</th>\n",
       "    </tr>\n",
       "  </thead>\n",
       "  <tbody>\n",
       "    <tr>\n",
       "      <th>0</th>\n",
       "      <td>1000004</td>\n",
       "      <td>P00128942</td>\n",
       "      <td>M</td>\n",
       "      <td>48</td>\n",
       "      <td>7</td>\n",
       "      <td>B</td>\n",
       "      <td>2</td>\n",
       "      <td>1</td>\n",
       "      <td>1</td>\n",
       "      <td>11.0</td>\n",
       "      <td>13.0</td>\n",
       "      <td>1</td>\n",
       "      <td>397</td>\n",
       "    </tr>\n",
       "    <tr>\n",
       "      <th>1</th>\n",
       "      <td>1000009</td>\n",
       "      <td>P00113442</td>\n",
       "      <td>M</td>\n",
       "      <td>30</td>\n",
       "      <td>17</td>\n",
       "      <td>C</td>\n",
       "      <td>0</td>\n",
       "      <td>0</td>\n",
       "      <td>3</td>\n",
       "      <td>5.0</td>\n",
       "      <td>13.0</td>\n",
       "      <td>27</td>\n",
       "      <td>117</td>\n",
       "    </tr>\n",
       "    <tr>\n",
       "      <th>2</th>\n",
       "      <td>1000010</td>\n",
       "      <td>P00288442</td>\n",
       "      <td>F</td>\n",
       "      <td>40</td>\n",
       "      <td>1</td>\n",
       "      <td>B</td>\n",
       "      <td>4</td>\n",
       "      <td>1</td>\n",
       "      <td>5</td>\n",
       "      <td>14.0</td>\n",
       "      <td>13.0</td>\n",
       "      <td>101</td>\n",
       "      <td>75</td>\n",
       "    </tr>\n",
       "    <tr>\n",
       "      <th>3</th>\n",
       "      <td>1000010</td>\n",
       "      <td>P00145342</td>\n",
       "      <td>F</td>\n",
       "      <td>40</td>\n",
       "      <td>1</td>\n",
       "      <td>B</td>\n",
       "      <td>4</td>\n",
       "      <td>1</td>\n",
       "      <td>4</td>\n",
       "      <td>9.0</td>\n",
       "      <td>13.0</td>\n",
       "      <td>101</td>\n",
       "      <td>8</td>\n",
       "    </tr>\n",
       "    <tr>\n",
       "      <th>4</th>\n",
       "      <td>1000011</td>\n",
       "      <td>P00053842</td>\n",
       "      <td>F</td>\n",
       "      <td>30</td>\n",
       "      <td>1</td>\n",
       "      <td>C</td>\n",
       "      <td>1</td>\n",
       "      <td>0</td>\n",
       "      <td>4</td>\n",
       "      <td>5.0</td>\n",
       "      <td>12.0</td>\n",
       "      <td>40</td>\n",
       "      <td>214</td>\n",
       "    </tr>\n",
       "  </tbody>\n",
       "</table>\n",
       "</div>"
      ],
      "text/plain": [
       "   User_ID Product_ID Gender  Age Occupation City_Category  \\\n",
       "0  1000004  P00128942      M   48          7             B   \n",
       "1  1000009  P00113442      M   30         17             C   \n",
       "2  1000010  P00288442      F   40          1             B   \n",
       "3  1000010  P00145342      F   40          1             B   \n",
       "4  1000011  P00053842      F   30          1             C   \n",
       "\n",
       "   Stay_In_Current_City_Years  Marital_Status  Product_Category_1  \\\n",
       "0                           2               1                   1   \n",
       "1                           0               0                   3   \n",
       "2                           4               1                   5   \n",
       "3                           4               1                   4   \n",
       "4                           1               0                   4   \n",
       "\n",
       "   Product_Category_2  Product_Category_3  User_Count  Product_Count  \n",
       "0                11.0                13.0           1            397  \n",
       "1                 5.0                13.0          27            117  \n",
       "2                14.0                13.0         101             75  \n",
       "3                 9.0                13.0         101              8  \n",
       "4                 5.0                12.0          40            214  "
      ]
     },
     "execution_count": 34,
     "metadata": {},
     "output_type": "execute_result"
    }
   ],
   "source": [
    "df_test.head(5)"
   ]
  },
  {
   "cell_type": "code",
   "execution_count": 37,
   "metadata": {},
   "outputs": [
    {
     "data": {
      "text/plain": [
       "User_ID                       False\n",
       "Product_ID                    False\n",
       "Gender                        False\n",
       "Age                           False\n",
       "Occupation                    False\n",
       "City_Category                 False\n",
       "Stay_In_Current_City_Years    False\n",
       "Marital_Status                False\n",
       "Product_Category_1            False\n",
       "Product_Category_2            False\n",
       "Product_Category_3            False\n",
       "Purchase                      False\n",
       "User_Count                    False\n",
       "Product_Count                 False\n",
       "dtype: bool"
      ]
     },
     "execution_count": 37,
     "metadata": {},
     "output_type": "execute_result"
    }
   ],
   "source": [
    "# validate if any NaN\n",
    "df_train.isnull().any()"
   ]
  },
  {
   "cell_type": "markdown",
   "metadata": {},
   "source": [
    "### Splitting Data into X-Value(Features) and Y-value(Results)\n",
    "\n",
    "Objective is to separate values to predict from the values to learn how to predict. Our task is to predict sale price **Purchase Price** of items."
   ]
  },
  {
   "cell_type": "code",
   "execution_count": 39,
   "metadata": {
    "collapsed": true
   },
   "outputs": [],
   "source": [
    "#make a copy of data - \n",
    "df_train_copy=df_train\n",
    "df_test_copy=df_test"
   ]
  },
  {
   "cell_type": "code",
   "execution_count": 40,
   "metadata": {},
   "outputs": [
    {
     "data": {
      "text/plain": [
       "(550, 14)"
      ]
     },
     "execution_count": 40,
     "metadata": {},
     "output_type": "execute_result"
    }
   ],
   "source": [
    "# Taking a random saple for ease of visualization and testing\n",
    "sample = df_train_copy.sample(frac=0.001, replace=True)\n",
    "sample.shape"
   ]
  },
  {
   "cell_type": "code",
   "execution_count": 41,
   "metadata": {},
   "outputs": [],
   "source": [
    "# Purchase Price Data\n",
    "df_train_purchase = df_train[\"Purchase\"]\n",
    "# Feature Matrix\n",
    "df_train = df_train.drop(\"Purchase\", axis=1)"
   ]
  },
  {
   "cell_type": "code",
   "execution_count": 42,
   "metadata": {},
   "outputs": [
    {
     "data": {
      "text/plain": [
       "((550068,), (550068, 13))"
      ]
     },
     "execution_count": 42,
     "metadata": {},
     "output_type": "execute_result"
    }
   ],
   "source": [
    "df_train_purchase.shape, df_train.shape"
   ]
  },
  {
   "cell_type": "markdown",
   "metadata": {},
   "source": [
    "## Part III. Data Exploration\n",
    "ref: https://www.analyticsvidhya.com/blog/2016/01/guide-data-exploration/\n",
    "\n",
    "Basic Objectives - \n",
    "- Variable Identification \n",
    "- Univariate\n",
    "- Bivariate Analysis\n",
    "- Missing Values Imputation\n",
    "- Outliers Treatment\n",
    "Detecting outliers by using various visualization methods, like Box-plot, Histogram, Scatter Plot.\n",
    "\n",
    "Removing outliers by various techniques such as deleting observations, transforming them, binning them, treat them as a separate group, imputing values and other statistical methods."
   ]
  },
  {
   "cell_type": "markdown",
   "metadata": {},
   "source": [
    "### A. Univariate Analysis\n",
    "\n",
    "In this section I explore variables one by one. Method to perform uni-variate analysis will depend on whether the variable type is categorical or continuous"
   ]
  },
  {
   "cell_type": "markdown",
   "metadata": {},
   "source": [
    "**Categorical Data:**\n",
    "- Marital_Status\n",
    "- Stay in current City\n",
    "- Product_Category_1\n",
    "- Product_Category_2\n",
    "- Product_Category_3\n",
    "\n",
    "**Continuous Data**\n",
    "- Age\n",
    "- Purchase\n",
    "- User_Count\n",
    "- Product_Count"
   ]
  },
  {
   "cell_type": "code",
   "execution_count": 43,
   "metadata": {},
   "outputs": [
    {
     "name": "stdout",
     "output_type": "stream",
     "text": [
      "Saving graph attribute_histogram_plots\n"
     ]
    },
    {
     "data": {
      "image/png": "[encoded data removed]",
      "text/plain": [
       "<matplotlib.figure.Figure at 0x12568d2b0>"
      ]
     },
     "metadata": {},
     "output_type": "display_data"
    }
   ],
   "source": [
    "sample.hist(bins=50, figsize=(11,8))\n",
    "save_fig(\"attribute_histogram_plots\")\n",
    "plt.show()"
   ]
  },
  {
   "cell_type": "code",
   "execution_count": 44,
   "metadata": {
    "scrolled": true
   },
   "outputs": [
    {
     "data": {
      "text/plain": [
       "[<matplotlib.text.Text at 0x121e79748>, <matplotlib.text.Text at 0x121d484a8>]"
      ]
     },
     "execution_count": 44,
     "metadata": {},
     "output_type": "execute_result"
    },
    {
     "data": {
      "image/png": "[encoded data removed]",
      "text/plain": [
       "<matplotlib.figure.Figure at 0x127255470>"
      ]
     },
     "metadata": {},
     "output_type": "display_data"
    }
   ],
   "source": [
    "# Distribution plot - Purchase\n",
    "ax = sns.distplot(sample.Purchase, kde=False, bins=20)\n",
    "ax.set(xlabel='Purchase Amount', ylabel='Frequency')"
   ]
  },
  {
   "cell_type": "code",
   "execution_count": 45,
   "metadata": {},
   "outputs": [
    {
     "data": {
      "text/plain": [
       "[<matplotlib.text.Text at 0x126ef7518>, <matplotlib.text.Text at 0x125a28b70>]"
      ]
     },
     "execution_count": 45,
     "metadata": {},
     "output_type": "execute_result"
    },
    {
     "data": {
      "image/png": "[encoded data removed]",
      "text/plain": [
       "<matplotlib.figure.Figure at 0x126b256a0>"
      ]
     },
     "metadata": {},
     "output_type": "display_data"
    }
   ],
   "source": [
    "# Distribution plot - Age\n",
    "ax = sns.distplot(sample.Age, kde=False, bins=20)\n",
    "ax.set(xlabel='Age', ylabel='Frequency')"
   ]
  },
  {
   "cell_type": "markdown",
   "metadata": {},
   "source": [
    "### B. Features Correlation"
   ]
  },
  {
   "cell_type": "code",
   "execution_count": 46,
   "metadata": {},
   "outputs": [
    {
     "data": {
      "text/html": [
       "<div>\n",
       "<style>\n",
       "    .dataframe thead tr:only-child th {\n",
       "        text-align: right;\n",
       "    }\n",
       "\n",
       "    .dataframe thead th {\n",
       "        text-align: left;\n",
       "    }\n",
       "\n",
       "    .dataframe tbody tr th {\n",
       "        vertical-align: top;\n",
       "    }\n",
       "</style>\n",
       "<table border=\"1\" class=\"dataframe\">\n",
       "  <thead>\n",
       "    <tr style=\"text-align: right;\">\n",
       "      <th></th>\n",
       "      <th>User_ID</th>\n",
       "      <th>Age</th>\n",
       "      <th>Stay_In_Current_City_Years</th>\n",
       "      <th>Marital_Status</th>\n",
       "      <th>Product_Category_1</th>\n",
       "      <th>Product_Category_2</th>\n",
       "      <th>Product_Category_3</th>\n",
       "      <th>Purchase</th>\n",
       "      <th>User_Count</th>\n",
       "      <th>Product_Count</th>\n",
       "    </tr>\n",
       "  </thead>\n",
       "  <tbody>\n",
       "    <tr>\n",
       "      <th>User_ID</th>\n",
       "      <td>1.000000</td>\n",
       "      <td>0.005078</td>\n",
       "      <td>-0.025160</td>\n",
       "      <td>0.036475</td>\n",
       "      <td>0.003335</td>\n",
       "      <td>0.010496</td>\n",
       "      <td>0.002664</td>\n",
       "      <td>0.003720</td>\n",
       "      <td>-0.110644</td>\n",
       "      <td>-0.066912</td>\n",
       "    </tr>\n",
       "    <tr>\n",
       "      <th>Age</th>\n",
       "      <td>0.005078</td>\n",
       "      <td>1.000000</td>\n",
       "      <td>-0.055103</td>\n",
       "      <td>0.320566</td>\n",
       "      <td>-0.011864</td>\n",
       "      <td>0.044047</td>\n",
       "      <td>0.093315</td>\n",
       "      <td>0.030671</td>\n",
       "      <td>-0.067813</td>\n",
       "      <td>0.043425</td>\n",
       "    </tr>\n",
       "    <tr>\n",
       "      <th>Stay_In_Current_City_Years</th>\n",
       "      <td>-0.025160</td>\n",
       "      <td>-0.055103</td>\n",
       "      <td>1.000000</td>\n",
       "      <td>-0.043652</td>\n",
       "      <td>0.009265</td>\n",
       "      <td>0.027593</td>\n",
       "      <td>0.011098</td>\n",
       "      <td>-0.014251</td>\n",
       "      <td>-0.010577</td>\n",
       "      <td>-0.000077</td>\n",
       "    </tr>\n",
       "    <tr>\n",
       "      <th>Marital_Status</th>\n",
       "      <td>0.036475</td>\n",
       "      <td>0.320566</td>\n",
       "      <td>-0.043652</td>\n",
       "      <td>1.000000</td>\n",
       "      <td>-0.062750</td>\n",
       "      <td>0.028012</td>\n",
       "      <td>-0.003160</td>\n",
       "      <td>0.025189</td>\n",
       "      <td>-0.017863</td>\n",
       "      <td>0.014154</td>\n",
       "    </tr>\n",
       "    <tr>\n",
       "      <th>Product_Category_1</th>\n",
       "      <td>0.003335</td>\n",
       "      <td>-0.011864</td>\n",
       "      <td>0.009265</td>\n",
       "      <td>-0.062750</td>\n",
       "      <td>1.000000</td>\n",
       "      <td>0.318049</td>\n",
       "      <td>0.100979</td>\n",
       "      <td>-0.336184</td>\n",
       "      <td>0.017624</td>\n",
       "      <td>-0.200383</td>\n",
       "    </tr>\n",
       "    <tr>\n",
       "      <th>Product_Category_2</th>\n",
       "      <td>0.010496</td>\n",
       "      <td>0.044047</td>\n",
       "      <td>0.027593</td>\n",
       "      <td>0.028012</td>\n",
       "      <td>0.318049</td>\n",
       "      <td>1.000000</td>\n",
       "      <td>0.308533</td>\n",
       "      <td>-0.132507</td>\n",
       "      <td>-0.010189</td>\n",
       "      <td>-0.123751</td>\n",
       "    </tr>\n",
       "    <tr>\n",
       "      <th>Product_Category_3</th>\n",
       "      <td>0.002664</td>\n",
       "      <td>0.093315</td>\n",
       "      <td>0.011098</td>\n",
       "      <td>-0.003160</td>\n",
       "      <td>0.100979</td>\n",
       "      <td>0.308533</td>\n",
       "      <td>1.000000</td>\n",
       "      <td>-0.111452</td>\n",
       "      <td>-0.063682</td>\n",
       "      <td>-0.053117</td>\n",
       "    </tr>\n",
       "    <tr>\n",
       "      <th>Purchase</th>\n",
       "      <td>0.003720</td>\n",
       "      <td>0.030671</td>\n",
       "      <td>-0.014251</td>\n",
       "      <td>0.025189</td>\n",
       "      <td>-0.336184</td>\n",
       "      <td>-0.132507</td>\n",
       "      <td>-0.111452</td>\n",
       "      <td>1.000000</td>\n",
       "      <td>-0.085340</td>\n",
       "      <td>0.254687</td>\n",
       "    </tr>\n",
       "    <tr>\n",
       "      <th>User_Count</th>\n",
       "      <td>-0.110644</td>\n",
       "      <td>-0.067813</td>\n",
       "      <td>-0.010577</td>\n",
       "      <td>-0.017863</td>\n",
       "      <td>0.017624</td>\n",
       "      <td>-0.010189</td>\n",
       "      <td>-0.063682</td>\n",
       "      <td>-0.085340</td>\n",
       "      <td>1.000000</td>\n",
       "      <td>-0.223153</td>\n",
       "    </tr>\n",
       "    <tr>\n",
       "      <th>Product_Count</th>\n",
       "      <td>-0.066912</td>\n",
       "      <td>0.043425</td>\n",
       "      <td>-0.000077</td>\n",
       "      <td>0.014154</td>\n",
       "      <td>-0.200383</td>\n",
       "      <td>-0.123751</td>\n",
       "      <td>-0.053117</td>\n",
       "      <td>0.254687</td>\n",
       "      <td>-0.223153</td>\n",
       "      <td>1.000000</td>\n",
       "    </tr>\n",
       "  </tbody>\n",
       "</table>\n",
       "</div>"
      ],
      "text/plain": [
       "                             User_ID       Age  Stay_In_Current_City_Years  \\\n",
       "User_ID                     1.000000  0.005078                   -0.025160   \n",
       "Age                         0.005078  1.000000                   -0.055103   \n",
       "Stay_In_Current_City_Years -0.025160 -0.055103                    1.000000   \n",
       "Marital_Status              0.036475  0.320566                   -0.043652   \n",
       "Product_Category_1          0.003335 -0.011864                    0.009265   \n",
       "Product_Category_2          0.010496  0.044047                    0.027593   \n",
       "Product_Category_3          0.002664  0.093315                    0.011098   \n",
       "Purchase                    0.003720  0.030671                   -0.014251   \n",
       "User_Count                 -0.110644 -0.067813                   -0.010577   \n",
       "Product_Count              -0.066912  0.043425                   -0.000077   \n",
       "\n",
       "                            Marital_Status  Product_Category_1  \\\n",
       "User_ID                           0.036475            0.003335   \n",
       "Age                               0.320566           -0.011864   \n",
       "Stay_In_Current_City_Years       -0.043652            0.009265   \n",
       "Marital_Status                    1.000000           -0.062750   \n",
       "Product_Category_1               -0.062750            1.000000   \n",
       "Product_Category_2                0.028012            0.318049   \n",
       "Product_Category_3               -0.003160            0.100979   \n",
       "Purchase                          0.025189           -0.336184   \n",
       "User_Count                       -0.017863            0.017624   \n",
       "Product_Count                     0.014154           -0.200383   \n",
       "\n",
       "                            Product_Category_2  Product_Category_3  Purchase  \\\n",
       "User_ID                               0.010496            0.002664  0.003720   \n",
       "Age                                   0.044047            0.093315  0.030671   \n",
       "Stay_In_Current_City_Years            0.027593            0.011098 -0.014251   \n",
       "Marital_Status                        0.028012           -0.003160  0.025189   \n",
       "Product_Category_1                    0.318049            0.100979 -0.336184   \n",
       "Product_Category_2                    1.000000            0.308533 -0.132507   \n",
       "Product_Category_3                    0.308533            1.000000 -0.111452   \n",
       "Purchase                             -0.132507           -0.111452  1.000000   \n",
       "User_Count                           -0.010189           -0.063682 -0.085340   \n",
       "Product_Count                        -0.123751           -0.053117  0.254687   \n",
       "\n",
       "                            User_Count  Product_Count  \n",
       "User_ID                      -0.110644      -0.066912  \n",
       "Age                          -0.067813       0.043425  \n",
       "Stay_In_Current_City_Years   -0.010577      -0.000077  \n",
       "Marital_Status               -0.017863       0.014154  \n",
       "Product_Category_1            0.017624      -0.200383  \n",
       "Product_Category_2           -0.010189      -0.123751  \n",
       "Product_Category_3           -0.063682      -0.053117  \n",
       "Purchase                     -0.085340       0.254687  \n",
       "User_Count                    1.000000      -0.223153  \n",
       "Product_Count                -0.223153       1.000000  "
      ]
     },
     "execution_count": 46,
     "metadata": {},
     "output_type": "execute_result"
    }
   ],
   "source": [
    "# creating correlation matrix\n",
    "corr_matrix = sample.corr()\n",
    "corr_matrix"
   ]
  },
  {
   "cell_type": "code",
   "execution_count": 47,
   "metadata": {},
   "outputs": [
    {
     "data": {
      "text/plain": [
       "Purchase                      1.000000\n",
       "Product_Count                 0.254687\n",
       "Age                           0.030671\n",
       "Marital_Status                0.025189\n",
       "User_ID                       0.003720\n",
       "Stay_In_Current_City_Years   -0.014251\n",
       "User_Count                   -0.085340\n",
       "Product_Category_3           -0.111452\n",
       "Product_Category_2           -0.132507\n",
       "Product_Category_1           -0.336184\n",
       "Name: Purchase, dtype: float64"
      ]
     },
     "execution_count": 47,
     "metadata": {},
     "output_type": "execute_result"
    }
   ],
   "source": [
    "# ordering the features based on correlation values\n",
    "corr_matrix[\"Purchase\"].sort_values(ascending=False)"
   ]
  },
  {
   "cell_type": "code",
   "execution_count": 48,
   "metadata": {},
   "outputs": [
    {
     "data": {
      "text/plain": [
       "<matplotlib.axes._subplots.AxesSubplot at 0x1272ff4e0>"
      ]
     },
     "execution_count": 48,
     "metadata": {},
     "output_type": "execute_result"
    },
    {
     "data": {
      "image/png": "[encoded data removed]",
      "text/plain": [
       "<matplotlib.figure.Figure at 0x126ef3710>"
      ]
     },
     "metadata": {},
     "output_type": "display_data"
    }
   ],
   "source": [
    "# generating a heat map for correlation matrix\n",
    "sns.heatmap(corr_matrix, xticklabels=corr_matrix.columns.values, yticklabels=corr_matrix.columns.values)"
   ]
  },
  {
   "cell_type": "markdown",
   "metadata": {},
   "source": [
    "### C. Multivariate Analysis"
   ]
  },
  {
   "cell_type": "code",
   "execution_count": 49,
   "metadata": {
    "collapsed": true
   },
   "outputs": [],
   "source": [
    "# taking very small sample for pair plot as it is computationally complex\n",
    "sample_micro = df_train_copy.sample(frac=0.0001, replace=True)"
   ]
  },
  {
   "cell_type": "code",
   "execution_count": 50,
   "metadata": {},
   "outputs": [
    {
     "name": "stdout",
     "output_type": "stream",
     "text": [
      "Saving graph Pair Plot - Multivariate\n"
     ]
    },
    {
     "data": {
      "image/png": "[encoded data removed]",
      "text/plain": [
       "<matplotlib.figure.Figure at 0x126db2198>"
      ]
     },
     "metadata": {},
     "output_type": "display_data"
    }
   ],
   "source": [
    "attributes = [\"Purchase\", \"Product_Count\", \"Age\", \"Stay_In_Current_City_Years\",\"Marital_Status\",\"User_Count\",\"Product_Category_1\"]\n",
    "sns.pairplot(sample_micro[attributes], hue='Purchase', size=2.5);\n",
    "save_fig(\"Pair Plot - Multivariate\")\n",
    "plt.show()"
   ]
  },
  {
   "cell_type": "markdown",
   "metadata": {},
   "source": [
    "From the pairplot above it is evident that there is **no strong correlation** between any two features. "
   ]
  },
  {
   "cell_type": "code",
   "execution_count": 51,
   "metadata": {},
   "outputs": [
    {
     "data": {
      "image/png": "[encoded data removed]",
      "text/plain": [
       "<matplotlib.figure.Figure at 0x124386080>"
      ]
     },
     "metadata": {},
     "output_type": "display_data"
    }
   ],
   "source": [
    "# Bar Plot\n",
    "sns.regplot(x=\"Product_Count\", y=\"Purchase\", data=sample_micro)\n",
    "plt.show()"
   ]
  },
  {
   "cell_type": "markdown",
   "metadata": {},
   "source": [
    "#### Categorical Data"
   ]
  },
  {
   "cell_type": "code",
   "execution_count": 52,
   "metadata": {},
   "outputs": [
    {
     "data": {
      "text/plain": [
       "<matplotlib.axes._subplots.AxesSubplot at 0x1241e65f8>"
      ]
     },
     "execution_count": 52,
     "metadata": {},
     "output_type": "execute_result"
    },
    {
     "data": {
      "image/png": "[encoded data removed]",
      "text/plain": [
       "<matplotlib.figure.Figure at 0x147517e10>"
      ]
     },
     "metadata": {},
     "output_type": "display_data"
    }
   ],
   "source": [
    "# Box Plot - Different Job Categories \n",
    "plt.figure(figsize = (12, 6))\n",
    "sns.boxplot(x = 'Occupation', y = 'Purchase',  data = sample)\n",
    "\n",
    "# Interesting Results - \n",
    "# Job category 5 make expensive purchase\n",
    "# Job category 16,17,18 make wide range expense purchase"
   ]
  },
  {
   "cell_type": "code",
   "execution_count": 53,
   "metadata": {},
   "outputs": [
    {
     "data": {
      "text/plain": [
       "<matplotlib.axes._subplots.AxesSubplot at 0x136087f60>"
      ]
     },
     "execution_count": 53,
     "metadata": {},
     "output_type": "execute_result"
    },
    {
     "data": {
      "image/png": "[encoded data removed]",
      "text/plain": [
       "<matplotlib.figure.Figure at 0x136087f28>"
      ]
     },
     "metadata": {},
     "output_type": "display_data"
    }
   ],
   "source": [
    "# Box Plot - Different Age Categories \n",
    "plt.figure(figsize = (12, 6))\n",
    "sns.boxplot(x = 'Age', y = 'Purchase',  data = sample)\n",
    "\n",
    "# Interesting Results - \n",
    "# Age group of 14 and 30 make Maximum purchase\n",
    "# Age group 53 make expensive purchase."
   ]
  },
  {
   "cell_type": "code",
   "execution_count": 54,
   "metadata": {},
   "outputs": [
    {
     "data": {
      "text/plain": [
       "<matplotlib.axes._subplots.AxesSubplot at 0x13c727908>"
      ]
     },
     "execution_count": 54,
     "metadata": {},
     "output_type": "execute_result"
    },
    {
     "data": {
      "image/png": "[encoded data removed]",
      "text/plain": [
       "<matplotlib.figure.Figure at 0x13cc00a58>"
      ]
     },
     "metadata": {},
     "output_type": "display_data"
    }
   ],
   "source": [
    "# Box Plot - Duration of stay in city\n",
    "plt.figure(figsize = (12, 6))\n",
    "sns.boxplot(x = 'Stay_In_Current_City_Years', y = 'Purchase',  data = sample)\n",
    "\n",
    "# Interesting Results -\n",
    "# People staying Longer in a place tend to make more expensive purchase"
   ]
  },
  {
   "cell_type": "code",
   "execution_count": 57,
   "metadata": {},
   "outputs": [
    {
     "data": {
      "text/plain": [
       "<matplotlib.axes._subplots.AxesSubplot at 0x1477d4588>"
      ]
     },
     "execution_count": 57,
     "metadata": {},
     "output_type": "execute_result"
    },
    {
     "data": {
      "image/png": "[encoded data removed]",
      "text/plain": [
       "<matplotlib.figure.Figure at 0x1199e34e0>"
      ]
     },
     "metadata": {},
     "output_type": "display_data"
    }
   ],
   "source": [
    "# Box Plot - Married vs Unmarried\n",
    "plt.figure(figsize = (12, 6))\n",
    "sns.boxplot(x = 'Marital_Status', y = 'Purchase',  data = sample)\n",
    "\n",
    "# Interesting Results -\n",
    "# Married users make more purchase than unmarried users."
   ]
  },
  {
   "cell_type": "code",
   "execution_count": 58,
   "metadata": {},
   "outputs": [
    {
     "data": {
      "text/plain": [
       "<matplotlib.axes._subplots.AxesSubplot at 0x128a69390>"
      ]
     },
     "execution_count": 58,
     "metadata": {},
     "output_type": "execute_result"
    },
    {
     "data": {
      "image/png": "[encoded data removed]",
      "text/plain": [
       "<matplotlib.figure.Figure at 0x128a094a8>"
      ]
     },
     "metadata": {},
     "output_type": "display_data"
    }
   ],
   "source": [
    "# Violin Plot \n",
    "plt.figure(figsize = (12, 6))\n",
    "sns.violinplot(x=\"Marital_Status\", y=\"Purchase\", data=sample)\n",
    "\n",
    "# Interesting Results - \n",
    "# Most of Single users purchase in range of 5000-1000\n",
    "# Married users buy in a wider range"
   ]
  },
  {
   "cell_type": "markdown",
   "metadata": {},
   "source": [
    "## Part IV. Building Regression Model"
   ]
  },
  {
   "cell_type": "markdown",
   "metadata": {},
   "source": [
    "There are more than **3000** product_id hence I am not encoding the product id. Also, product_id is not a relevant feature and has been used to create new features. "
   ]
  },
  {
   "cell_type": "code",
   "execution_count": 60,
   "metadata": {},
   "outputs": [
    {
     "data": {
      "text/plain": [
       "(3631, 2, 21, 3)"
      ]
     },
     "execution_count": 60,
     "metadata": {},
     "output_type": "execute_result"
    }
   ],
   "source": [
    "len(df_train['Product_ID'].unique()),len(df_train['Gender'].unique()), len(df_train['Occupation'].unique()),len(df_train['City_Category'].unique())"
   ]
  },
  {
   "cell_type": "code",
   "execution_count": 61,
   "metadata": {},
   "outputs": [
    {
     "data": {
      "text/plain": [
       "((550068, 12), (233599, 12))"
      ]
     },
     "execution_count": 61,
     "metadata": {},
     "output_type": "execute_result"
    }
   ],
   "source": [
    "# drop from train\n",
    "df_train=df_train.drop(['Product_ID'], axis=1)\n",
    "# drop from test\n",
    "df_test=df_test.drop(['Product_ID'], axis=1)\n",
    "\n",
    "df_train.shape,df_test.shape"
   ]
  },
  {
   "cell_type": "code",
   "execution_count": 62,
   "metadata": {
    "collapsed": true
   },
   "outputs": [],
   "source": [
    "from sklearn.preprocessing import LabelBinarizer\n",
    "from sklearn.preprocessing import StandardScaler\n",
    "from sklearn import preprocessing"
   ]
  },
  {
   "cell_type": "markdown",
   "metadata": {},
   "source": [
    "### A. Label Encoding - Label Binarizer\n",
    "\n",
    "Label encoding needed for following non-numeric attributes\n",
    "\n",
    "- Product_ID\n",
    "- Gender\n",
    "- Occupation\n",
    "- City_Category"
   ]
  },
  {
   "cell_type": "code",
   "execution_count": 63,
   "metadata": {},
   "outputs": [],
   "source": [
    "def LabelEncoder(data=df_train):\n",
    "    encoder = LabelBinarizer()\n",
    "    sample_cat1 = data[\"City_Category\"]\n",
    "    cat1=encoder.fit_transform(sample_cat1)\n",
    "    sample_cat2 = data[\"Gender\"]\n",
    "    cat2=encoder.fit_transform(sample_cat2)\n",
    "    sample_cat3 = data[\"Occupation\"]\n",
    "    cat3=encoder.fit_transform(sample_cat3)\n",
    "    temp=np.concatenate((cat1, cat2, cat3), axis=1)\n",
    "    return temp"
   ]
  },
  {
   "cell_type": "markdown",
   "metadata": {},
   "source": [
    "### B. Data Normalization - StandardScaler"
   ]
  },
  {
   "cell_type": "code",
   "execution_count": 68,
   "metadata": {},
   "outputs": [],
   "source": [
    "def Standard_Scaler(data):\n",
    "    # separating numeric data\n",
    "    df_train_num = data.drop([\"City_Category\",\"Gender\",\"Occupation\"], axis=1)\n",
    "    # Normalizing data\n",
    "    scalar=preprocessing.StandardScaler().fit(df_train_num)\n",
    "    return scalar.transform(df_train_num)"
   ]
  },
  {
   "cell_type": "markdown",
   "metadata": {},
   "source": [
    "### C. Preparing Data for Model"
   ]
  },
  {
   "cell_type": "code",
   "execution_count": 69,
   "metadata": {},
   "outputs": [],
   "source": [
    "# generate encoded stream for Non-Numeric Data\n",
    "def prepare_data(data=df_train):\n",
    "    # binary encoding of categorical data\n",
    "    cat_data=LabelEncoder(data)\n",
    "    # normalizing numeric data \n",
    "    num_data=Standard_Scaler(data)\n",
    "    # concatinating two datasets \n",
    "    return pd.DataFrame(np.concatenate((num_data,cat_data), axis=1))"
   ]
  },
  {
   "cell_type": "code",
   "execution_count": 70,
   "metadata": {},
   "outputs": [
    {
     "data": {
      "text/html": [
       "<div>\n",
       "<style>\n",
       "    .dataframe thead tr:only-child th {\n",
       "        text-align: right;\n",
       "    }\n",
       "\n",
       "    .dataframe thead th {\n",
       "        text-align: left;\n",
       "    }\n",
       "\n",
       "    .dataframe tbody tr th {\n",
       "        vertical-align: top;\n",
       "    }\n",
       "</style>\n",
       "<table border=\"1\" class=\"dataframe\">\n",
       "  <thead>\n",
       "    <tr style=\"text-align: right;\">\n",
       "      <th></th>\n",
       "      <th>0</th>\n",
       "      <th>1</th>\n",
       "      <th>2</th>\n",
       "      <th>3</th>\n",
       "      <th>4</th>\n",
       "      <th>5</th>\n",
       "      <th>6</th>\n",
       "      <th>7</th>\n",
       "      <th>8</th>\n",
       "      <th>9</th>\n",
       "      <th>...</th>\n",
       "      <th>24</th>\n",
       "      <th>25</th>\n",
       "      <th>26</th>\n",
       "      <th>27</th>\n",
       "      <th>28</th>\n",
       "      <th>29</th>\n",
       "      <th>30</th>\n",
       "      <th>31</th>\n",
       "      <th>32</th>\n",
       "      <th>33</th>\n",
       "    </tr>\n",
       "  </thead>\n",
       "  <tbody>\n",
       "    <tr>\n",
       "      <th>0</th>\n",
       "      <td>-1.752639</td>\n",
       "      <td>-1.821202</td>\n",
       "      <td>0.109801</td>\n",
       "      <td>-0.833018</td>\n",
       "      <td>-0.610809</td>\n",
       "      <td>0.025639</td>\n",
       "      <td>0.044188</td>\n",
       "      <td>-1.036407</td>\n",
       "      <td>-0.615035</td>\n",
       "      <td>1.0</td>\n",
       "      <td>...</td>\n",
       "      <td>0.0</td>\n",
       "      <td>0.0</td>\n",
       "      <td>0.0</td>\n",
       "      <td>0.0</td>\n",
       "      <td>0.0</td>\n",
       "      <td>0.0</td>\n",
       "      <td>0.0</td>\n",
       "      <td>0.0</td>\n",
       "      <td>0.0</td>\n",
       "      <td>0.0</td>\n",
       "    </tr>\n",
       "    <tr>\n",
       "      <th>1</th>\n",
       "      <td>-1.752639</td>\n",
       "      <td>-1.821202</td>\n",
       "      <td>0.109801</td>\n",
       "      <td>-0.833018</td>\n",
       "      <td>-1.118912</td>\n",
       "      <td>-0.924822</td>\n",
       "      <td>0.483374</td>\n",
       "      <td>-1.036407</td>\n",
       "      <td>0.359214</td>\n",
       "      <td>1.0</td>\n",
       "      <td>...</td>\n",
       "      <td>0.0</td>\n",
       "      <td>0.0</td>\n",
       "      <td>0.0</td>\n",
       "      <td>0.0</td>\n",
       "      <td>0.0</td>\n",
       "      <td>0.0</td>\n",
       "      <td>0.0</td>\n",
       "      <td>0.0</td>\n",
       "      <td>0.0</td>\n",
       "      <td>0.0</td>\n",
       "    </tr>\n",
       "    <tr>\n",
       "      <th>2</th>\n",
       "      <td>-1.752639</td>\n",
       "      <td>-1.821202</td>\n",
       "      <td>0.109801</td>\n",
       "      <td>-0.833018</td>\n",
       "      <td>1.675656</td>\n",
       "      <td>0.025639</td>\n",
       "      <td>0.044188</td>\n",
       "      <td>-1.036407</td>\n",
       "      <td>-0.959050</td>\n",
       "      <td>1.0</td>\n",
       "      <td>...</td>\n",
       "      <td>0.0</td>\n",
       "      <td>0.0</td>\n",
       "      <td>0.0</td>\n",
       "      <td>0.0</td>\n",
       "      <td>0.0</td>\n",
       "      <td>0.0</td>\n",
       "      <td>0.0</td>\n",
       "      <td>0.0</td>\n",
       "      <td>0.0</td>\n",
       "      <td>0.0</td>\n",
       "    </tr>\n",
       "    <tr>\n",
       "      <th>3</th>\n",
       "      <td>-1.752639</td>\n",
       "      <td>-1.821202</td>\n",
       "      <td>0.109801</td>\n",
       "      <td>-0.833018</td>\n",
       "      <td>1.675656</td>\n",
       "      <td>0.976099</td>\n",
       "      <td>0.044188</td>\n",
       "      <td>-1.036407</td>\n",
       "      <td>-0.301294</td>\n",
       "      <td>1.0</td>\n",
       "      <td>...</td>\n",
       "      <td>0.0</td>\n",
       "      <td>0.0</td>\n",
       "      <td>0.0</td>\n",
       "      <td>0.0</td>\n",
       "      <td>0.0</td>\n",
       "      <td>0.0</td>\n",
       "      <td>0.0</td>\n",
       "      <td>0.0</td>\n",
       "      <td>0.0</td>\n",
       "      <td>0.0</td>\n",
       "    </tr>\n",
       "    <tr>\n",
       "      <th>4</th>\n",
       "      <td>-1.752061</td>\n",
       "      <td>2.324398</td>\n",
       "      <td>1.660861</td>\n",
       "      <td>-0.833018</td>\n",
       "      <td>0.659449</td>\n",
       "      <td>0.025639</td>\n",
       "      <td>0.044188</td>\n",
       "      <td>-0.796450</td>\n",
       "      <td>-0.681086</td>\n",
       "      <td>0.0</td>\n",
       "      <td>...</td>\n",
       "      <td>0.0</td>\n",
       "      <td>0.0</td>\n",
       "      <td>0.0</td>\n",
       "      <td>0.0</td>\n",
       "      <td>0.0</td>\n",
       "      <td>0.0</td>\n",
       "      <td>0.0</td>\n",
       "      <td>0.0</td>\n",
       "      <td>0.0</td>\n",
       "      <td>0.0</td>\n",
       "    </tr>\n",
       "  </tbody>\n",
       "</table>\n",
       "<p>5 rows × 34 columns</p>\n",
       "</div>"
      ],
      "text/plain": [
       "         0         1         2         3         4         5         6   \\\n",
       "0 -1.752639 -1.821202  0.109801 -0.833018 -0.610809  0.025639  0.044188   \n",
       "1 -1.752639 -1.821202  0.109801 -0.833018 -1.118912 -0.924822  0.483374   \n",
       "2 -1.752639 -1.821202  0.109801 -0.833018  1.675656  0.025639  0.044188   \n",
       "3 -1.752639 -1.821202  0.109801 -0.833018  1.675656  0.976099  0.044188   \n",
       "4 -1.752061  2.324398  1.660861 -0.833018  0.659449  0.025639  0.044188   \n",
       "\n",
       "         7         8    9  ...    24   25   26   27   28   29   30   31   32  \\\n",
       "0 -1.036407 -0.615035  1.0 ...   0.0  0.0  0.0  0.0  0.0  0.0  0.0  0.0  0.0   \n",
       "1 -1.036407  0.359214  1.0 ...   0.0  0.0  0.0  0.0  0.0  0.0  0.0  0.0  0.0   \n",
       "2 -1.036407 -0.959050  1.0 ...   0.0  0.0  0.0  0.0  0.0  0.0  0.0  0.0  0.0   \n",
       "3 -1.036407 -0.301294  1.0 ...   0.0  0.0  0.0  0.0  0.0  0.0  0.0  0.0  0.0   \n",
       "4 -0.796450 -0.681086  0.0 ...   0.0  0.0  0.0  0.0  0.0  0.0  0.0  0.0  0.0   \n",
       "\n",
       "    33  \n",
       "0  0.0  \n",
       "1  0.0  \n",
       "2  0.0  \n",
       "3  0.0  \n",
       "4  0.0  \n",
       "\n",
       "[5 rows x 34 columns]"
      ]
     },
     "execution_count": 70,
     "metadata": {},
     "output_type": "execute_result"
    }
   ],
   "source": [
    "# Training Data\n",
    "df_train_trans=prepare_data(df_train)\n",
    "# this is a normalized data that has been added with additional features from Categorical data\n",
    "df_train_trans.head(5)"
   ]
  },
  {
   "cell_type": "code",
   "execution_count": 71,
   "metadata": {},
   "outputs": [
    {
     "data": {
      "text/html": [
       "<div>\n",
       "<style>\n",
       "    .dataframe thead tr:only-child th {\n",
       "        text-align: right;\n",
       "    }\n",
       "\n",
       "    .dataframe thead th {\n",
       "        text-align: left;\n",
       "    }\n",
       "\n",
       "    .dataframe tbody tr th {\n",
       "        vertical-align: top;\n",
       "    }\n",
       "</style>\n",
       "<table border=\"1\" class=\"dataframe\">\n",
       "  <thead>\n",
       "    <tr style=\"text-align: right;\">\n",
       "      <th></th>\n",
       "      <th>0</th>\n",
       "      <th>1</th>\n",
       "      <th>2</th>\n",
       "      <th>3</th>\n",
       "      <th>4</th>\n",
       "      <th>5</th>\n",
       "      <th>6</th>\n",
       "      <th>7</th>\n",
       "      <th>8</th>\n",
       "      <th>9</th>\n",
       "      <th>...</th>\n",
       "      <th>24</th>\n",
       "      <th>25</th>\n",
       "      <th>26</th>\n",
       "      <th>27</th>\n",
       "      <th>28</th>\n",
       "      <th>29</th>\n",
       "      <th>30</th>\n",
       "      <th>31</th>\n",
       "      <th>32</th>\n",
       "      <th>33</th>\n",
       "    </tr>\n",
       "  </thead>\n",
       "  <tbody>\n",
       "    <tr>\n",
       "      <th>0</th>\n",
       "      <td>-1.752305</td>\n",
       "      <td>1.244130</td>\n",
       "      <td>0.110432</td>\n",
       "      <td>1.199419</td>\n",
       "      <td>-1.144571</td>\n",
       "      <td>0.260727</td>\n",
       "      <td>0.044081</td>\n",
       "      <td>-1.224029</td>\n",
       "      <td>1.320514</td>\n",
       "      <td>0.0</td>\n",
       "      <td>...</td>\n",
       "      <td>0.0</td>\n",
       "      <td>0.0</td>\n",
       "      <td>0.0</td>\n",
       "      <td>0.0</td>\n",
       "      <td>0.0</td>\n",
       "      <td>0.0</td>\n",
       "      <td>0.0</td>\n",
       "      <td>1.0</td>\n",
       "      <td>0.0</td>\n",
       "      <td>0.0</td>\n",
       "    </tr>\n",
       "    <tr>\n",
       "      <th>1</th>\n",
       "      <td>-1.749409</td>\n",
       "      <td>-0.381063</td>\n",
       "      <td>-1.443264</td>\n",
       "      <td>-0.833737</td>\n",
       "      <td>-0.609292</td>\n",
       "      <td>-1.156481</td>\n",
       "      <td>0.044081</td>\n",
       "      <td>-0.878669</td>\n",
       "      <td>-0.479088</td>\n",
       "      <td>0.0</td>\n",
       "      <td>...</td>\n",
       "      <td>0.0</td>\n",
       "      <td>0.0</td>\n",
       "      <td>0.0</td>\n",
       "      <td>0.0</td>\n",
       "      <td>0.0</td>\n",
       "      <td>0.0</td>\n",
       "      <td>0.0</td>\n",
       "      <td>0.0</td>\n",
       "      <td>0.0</td>\n",
       "      <td>0.0</td>\n",
       "    </tr>\n",
       "    <tr>\n",
       "      <th>2</th>\n",
       "      <td>-1.748830</td>\n",
       "      <td>0.521822</td>\n",
       "      <td>1.664128</td>\n",
       "      <td>1.199419</td>\n",
       "      <td>-0.074014</td>\n",
       "      <td>0.969330</td>\n",
       "      <td>0.044081</td>\n",
       "      <td>0.104279</td>\n",
       "      <td>-0.749028</td>\n",
       "      <td>0.0</td>\n",
       "      <td>...</td>\n",
       "      <td>0.0</td>\n",
       "      <td>0.0</td>\n",
       "      <td>0.0</td>\n",
       "      <td>0.0</td>\n",
       "      <td>0.0</td>\n",
       "      <td>0.0</td>\n",
       "      <td>0.0</td>\n",
       "      <td>0.0</td>\n",
       "      <td>0.0</td>\n",
       "      <td>0.0</td>\n",
       "    </tr>\n",
       "    <tr>\n",
       "      <th>3</th>\n",
       "      <td>-1.748830</td>\n",
       "      <td>0.521822</td>\n",
       "      <td>1.664128</td>\n",
       "      <td>1.199419</td>\n",
       "      <td>-0.341653</td>\n",
       "      <td>-0.211676</td>\n",
       "      <td>0.044081</td>\n",
       "      <td>0.104279</td>\n",
       "      <td>-1.179647</td>\n",
       "      <td>0.0</td>\n",
       "      <td>...</td>\n",
       "      <td>0.0</td>\n",
       "      <td>0.0</td>\n",
       "      <td>0.0</td>\n",
       "      <td>0.0</td>\n",
       "      <td>0.0</td>\n",
       "      <td>0.0</td>\n",
       "      <td>0.0</td>\n",
       "      <td>0.0</td>\n",
       "      <td>0.0</td>\n",
       "      <td>0.0</td>\n",
       "    </tr>\n",
       "    <tr>\n",
       "      <th>4</th>\n",
       "      <td>-1.748251</td>\n",
       "      <td>-0.381063</td>\n",
       "      <td>-0.666416</td>\n",
       "      <td>-0.833737</td>\n",
       "      <td>-0.341653</td>\n",
       "      <td>-1.156481</td>\n",
       "      <td>-0.394455</td>\n",
       "      <td>-0.705989</td>\n",
       "      <td>0.144346</td>\n",
       "      <td>0.0</td>\n",
       "      <td>...</td>\n",
       "      <td>0.0</td>\n",
       "      <td>0.0</td>\n",
       "      <td>0.0</td>\n",
       "      <td>0.0</td>\n",
       "      <td>0.0</td>\n",
       "      <td>0.0</td>\n",
       "      <td>0.0</td>\n",
       "      <td>0.0</td>\n",
       "      <td>0.0</td>\n",
       "      <td>0.0</td>\n",
       "    </tr>\n",
       "  </tbody>\n",
       "</table>\n",
       "<p>5 rows × 34 columns</p>\n",
       "</div>"
      ],
      "text/plain": [
       "         0         1         2         3         4         5         6   \\\n",
       "0 -1.752305  1.244130  0.110432  1.199419 -1.144571  0.260727  0.044081   \n",
       "1 -1.749409 -0.381063 -1.443264 -0.833737 -0.609292 -1.156481  0.044081   \n",
       "2 -1.748830  0.521822  1.664128  1.199419 -0.074014  0.969330  0.044081   \n",
       "3 -1.748830  0.521822  1.664128  1.199419 -0.341653 -0.211676  0.044081   \n",
       "4 -1.748251 -0.381063 -0.666416 -0.833737 -0.341653 -1.156481 -0.394455   \n",
       "\n",
       "         7         8    9  ...    24   25   26   27   28   29   30   31   32  \\\n",
       "0 -1.224029  1.320514  0.0 ...   0.0  0.0  0.0  0.0  0.0  0.0  0.0  1.0  0.0   \n",
       "1 -0.878669 -0.479088  0.0 ...   0.0  0.0  0.0  0.0  0.0  0.0  0.0  0.0  0.0   \n",
       "2  0.104279 -0.749028  0.0 ...   0.0  0.0  0.0  0.0  0.0  0.0  0.0  0.0  0.0   \n",
       "3  0.104279 -1.179647  0.0 ...   0.0  0.0  0.0  0.0  0.0  0.0  0.0  0.0  0.0   \n",
       "4 -0.705989  0.144346  0.0 ...   0.0  0.0  0.0  0.0  0.0  0.0  0.0  0.0  0.0   \n",
       "\n",
       "    33  \n",
       "0  0.0  \n",
       "1  0.0  \n",
       "2  0.0  \n",
       "3  0.0  \n",
       "4  0.0  \n",
       "\n",
       "[5 rows x 34 columns]"
      ]
     },
     "execution_count": 71,
     "metadata": {},
     "output_type": "execute_result"
    }
   ],
   "source": [
    "# Training Data\n",
    "df_test_trans=prepare_data(df_test)\n",
    "df_test_trans.head(5)"
   ]
  },
  {
   "cell_type": "code",
   "execution_count": 72,
   "metadata": {},
   "outputs": [
    {
     "data": {
      "text/plain": [
       "((550068, 34), (233599, 34))"
      ]
     },
     "execution_count": 72,
     "metadata": {},
     "output_type": "execute_result"
    }
   ],
   "source": [
    "# New data shape\n",
    "df_train_trans.shape,df_test_trans.shape"
   ]
  },
  {
   "cell_type": "markdown",
   "metadata": {},
   "source": [
    "#### Model Creation"
   ]
  },
  {
   "cell_type": "code",
   "execution_count": 73,
   "metadata": {
    "collapsed": true
   },
   "outputs": [],
   "source": [
    "from sklearn.linear_model import LinearRegression\n",
    "from sklearn.tree import DecisionTreeRegressor\n",
    "from sklearn.ensemble import GradientBoostingRegressor"
   ]
  },
  {
   "cell_type": "markdown",
   "metadata": {},
   "source": [
    "### Linear Regression Model - *Multivariate Regression*"
   ]
  },
  {
   "cell_type": "code",
   "execution_count": 79,
   "metadata": {},
   "outputs": [],
   "source": [
    "def build_linear_regression():\n",
    "    lin_reg = LinearRegression(fit_intercept=True, normalize=True,n_jobs=2)    \n",
    "    # Training the model\n",
    "    lin_reg.fit(df_train_trans, df_train_purchase)\n",
    "\n",
    "    # testing with few training instances\n",
    "    sample_data = df_train_trans.iloc[:5]\n",
    "    sample_labels = df_train_purchase.iloc[:5]\n",
    "\n",
    "    print(\"\\nTest Logistic Regression Model:\")\n",
    "    print(\"Predictions:\\t\",list(lin_reg.predict(sample_data)))\n",
    "    print(\"Labels:\\t\\t\", list(sample_labels))\n",
    "    \n",
    "    predicted = lin_reg.predict(df_train_trans)\n",
    "    return (lin_reg, predicted)"
   ]
  },
  {
   "cell_type": "code",
   "execution_count": 81,
   "metadata": {},
   "outputs": [],
   "source": [
    "#model_LR,res=build_linear_regression()\n",
    "#print(type(model_LR))"
   ]
  },
  {
   "cell_type": "markdown",
   "metadata": {},
   "source": [
    "### Non-Linear Regression Model - *DecisionTree Regressor*"
   ]
  },
  {
   "cell_type": "code",
   "execution_count": 80,
   "metadata": {},
   "outputs": [],
   "source": [
    "def build_decisiontree_regression():\n",
    "    tree_reg = DecisionTreeRegressor(criterion='mse', splitter='best', max_depth=10, min_samples_split=2, min_samples_leaf=1)\n",
    "    # Training the model\n",
    "    tree_reg.fit(df_train_trans, df_train_purchase)\n",
    "\n",
    "    # testing with few training instances\n",
    "    sample_data = df_train_trans.iloc[:5]\n",
    "    sample_labels = df_train_purchase.iloc[:5]\n",
    "    \n",
    "    print(\"\\nTest Decision Tree Model:\")\n",
    "    print(\"Predictions:\\t\",list(tree_reg.predict(sample_data)))\n",
    "    # testing with few training instances\n",
    "    print(\"Labels:\\t\\t\", list(sample_labels))\n",
    "    \n",
    "    predicted = tree_reg.predict(df_train_trans)\n",
    "    return (tree_reg, predicted)"
   ]
  },
  {
   "cell_type": "markdown",
   "metadata": {},
   "source": [
    "### Model Optimization - Gradient Boosting"
   ]
  },
  {
   "cell_type": "code",
   "execution_count": 89,
   "metadata": {
    "collapsed": true
   },
   "outputs": [],
   "source": [
    "def build_gradientboost_regression():\n",
    "    #Fit model with best paramters then make predictions on the test set.\n",
    "    gb_reg = GradientBoostingRegressor(learning_rate=0.1,max_depth=5,min_samples_leaf=8,max_features=0.88,n_estimators=300)\n",
    "    \n",
    "    # Training the model\n",
    "    gb_reg.fit(df_train_trans, df_train_purchase)\n",
    "    \n",
    "    # testing with few training instances\n",
    "    sample_data = df_train_trans.iloc[:5]\n",
    "    sample_labels = df_train_purchase.iloc[:5]\n",
    "    \n",
    "    print(\"\\nTest Gradient Boost Model:\")\n",
    "    print(\"Predictions:\\t\",list(gb_reg.predict(sample_data)))\n",
    "    # testing with few training instances\n",
    "    print(\"Labels:\\t\\t\", list(sample_labels))\n",
    "    \n",
    "    predicted = gb_reg.predict(df_train_trans)\n",
    "    return (gb_reg, predicted)"
   ]
  },
  {
   "cell_type": "markdown",
   "metadata": {},
   "source": [
    "#### Build Model"
   ]
  },
  {
   "cell_type": "code",
   "execution_count": 78,
   "metadata": {},
   "outputs": [],
   "source": [
    "def model_building():\n",
    "    all_models=[]\n",
    "    # creating logistic regression model\n",
    "    df_train_trans_LR = build_linear_regression()\n",
    "    all_models.append(df_train_trans_LR)\n",
    "    # creating decision tree regression model\n",
    "    df_train_trans_DT = build_decisiontree_regression()\n",
    "    all_models.append(df_train_trans_DT)\n",
    "    # creating logistic regression model\n",
    "    df_train_trans_GB = build_gradientboost_regression()\n",
    "    all_models.append(df_train_trans_GB)\n",
    "    return all_models"
   ]
  },
  {
   "cell_type": "code",
   "execution_count": 90,
   "metadata": {},
   "outputs": [
    {
     "name": "stdout",
     "output_type": "stream",
     "text": [
      "\n",
      "Test Logistic Regression Model:\n",
      "Predictions:\t [8479.0, 10708.0, 4926.0, 5418.0, 8424.0]\n",
      "Labels:\t\t [8370, 15200, 1422, 1057, 7969]\n",
      "\n",
      "Test Decision Tree Model:\n",
      "Predictions:\t [10358.6, 15149.005107003892, 1430.374185136897, 1430.374185136897, 7823.0897946186915]\n",
      "Labels:\t\t [8370, 15200, 1422, 1057, 7969]\n",
      "\n",
      "Test Gradient Boost Model:\n",
      "Predictions:\t [11546.626044711547, 15648.28736132528, 1815.5472051526633, 1610.9884788087529, 7662.8440363017799]\n",
      "Labels:\t\t [8370, 15200, 1422, 1057, 7969]\n"
     ]
    }
   ],
   "source": [
    "# Build Model\n",
    "all_models=model_building()\n",
    "models=all_models"
   ]
  },
  {
   "cell_type": "markdown",
   "metadata": {},
   "source": [
    "## Part V. Model Evaluation¶"
   ]
  },
  {
   "cell_type": "code",
   "execution_count": 83,
   "metadata": {
    "collapsed": true
   },
   "outputs": [],
   "source": [
    "from sklearn.metrics import mean_squared_error\n",
    "from sklearn.metrics import mean_absolute_error"
   ]
  },
  {
   "cell_type": "markdown",
   "metadata": {},
   "source": [
    "#### Using RMSE (Root Mean Squared Error)"
   ]
  },
  {
   "cell_type": "code",
   "execution_count": 84,
   "metadata": {},
   "outputs": [],
   "source": [
    "def RMSE(actual, predicted):\n",
    "    lin_mse = mean_squared_error(actual, predicted)\n",
    "    lin_rmse = np.sqrt(lin_mse)\n",
    "    return lin_rmse"
   ]
  },
  {
   "cell_type": "markdown",
   "metadata": {},
   "source": [
    "#### Using MAE (Mean Absolute Error)"
   ]
  },
  {
   "cell_type": "code",
   "execution_count": 85,
   "metadata": {},
   "outputs": [],
   "source": [
    "def MAE(actual, predicted):\n",
    "    lin_mae = mean_absolute_error(actual, predicted)\n",
    "    return lin_mae"
   ]
  },
  {
   "cell_type": "code",
   "execution_count": 87,
   "metadata": {
    "collapsed": true
   },
   "outputs": [],
   "source": [
    "def evaluate_model(actual, predicted,name):\n",
    "    print(\"-\"*40)\n",
    "    print(\"Evaluating the model {0}\".format(name))\n",
    "    print(\"-\"*40)\n",
    "    rmse=RMSE(actual, predicted)\n",
    "    print(\"\\nRoot Mean Squared Error:\\t\",round(rmse,2))\n",
    "    mae=MAE(actual, predicted)\n",
    "    print(\"Mean Absolute Error:\\t\\t\",round(mae,2))\n",
    "    print(\"\\n\")\n",
    "    return (rmse, mae)"
   ]
  },
  {
   "cell_type": "markdown",
   "metadata": {},
   "source": [
    "### Evaluate"
   ]
  },
  {
   "cell_type": "code",
   "execution_count": 91,
   "metadata": {},
   "outputs": [
    {
     "name": "stdout",
     "output_type": "stream",
     "text": [
      "----------------------------------------\n",
      "Evaluating the model Logistic Regression\n",
      "----------------------------------------\n",
      "\n",
      "Root Mean Squared Error:\t 4532.67\n",
      "Mean Absolute Error:\t\t 3487.41\n",
      "\n",
      "\n",
      "----------------------------------------\n",
      "Evaluating the model Decision Tree\n",
      "----------------------------------------\n",
      "\n",
      "Root Mean Squared Error:\t 2737.05\n",
      "Mean Absolute Error:\t\t 2041.92\n",
      "\n",
      "\n",
      "----------------------------------------\n",
      "Evaluating the model Gradient Boost\n",
      "----------------------------------------\n",
      "\n",
      "Root Mean Squared Error:\t 2649.37\n",
      "Mean Absolute Error:\t\t 1973.25\n",
      "\n",
      "\n"
     ]
    }
   ],
   "source": [
    "# evaluating the model\n",
    "# 0: \"Logistic Regression\", 1: \"Decision Tree\", 2: \"Gradient Boost\"\n",
    "evaluation=[]\n",
    "for i in range(len(models)):\n",
    "    model_cat={0: \"Logistic Regression\", 1: \"Decision Tree\", 2: \"Gradient Boost\"}\n",
    "    evaluation.append(evaluate_model(df_train_purchase, models[i][1],model_cat[i]))"
   ]
  },
  {
   "cell_type": "markdown",
   "metadata": {},
   "source": [
    "## Part VI. Results"
   ]
  },
  {
   "cell_type": "markdown",
   "metadata": {},
   "source": [
    "In the above model best accuracy has been achieved by Decision tree with Least MAE and RMSE among all three models - LR, GB, DT. \n",
    "\n",
    "**Note:** The accuracy of GB can be further improved by tuning some parameters - \n",
    "*learning_rate=0.5,max_depth=3,min_samples_leaf=8*. For example, max depth of Decision Tree is 10 wherseas for Gradient Boost its just 3. If the depth is increased along with reducing the learning rate , better results will be generated. The only cavaet is that this will make it computationally intense."
   ]
  },
  {
   "cell_type": "code",
   "execution_count": 92,
   "metadata": {},
   "outputs": [
    {
     "data": {
      "text/html": [
       "<div>\n",
       "<style>\n",
       "    .dataframe thead tr:only-child th {\n",
       "        text-align: right;\n",
       "    }\n",
       "\n",
       "    .dataframe thead th {\n",
       "        text-align: left;\n",
       "    }\n",
       "\n",
       "    .dataframe tbody tr th {\n",
       "        vertical-align: top;\n",
       "    }\n",
       "</style>\n",
       "<table border=\"1\" class=\"dataframe\">\n",
       "  <thead>\n",
       "    <tr style=\"text-align: right;\">\n",
       "      <th></th>\n",
       "      <th>Technique</th>\n",
       "      <th>RMSE</th>\n",
       "      <th>MAE</th>\n",
       "    </tr>\n",
       "  </thead>\n",
       "  <tbody>\n",
       "    <tr>\n",
       "      <th>0</th>\n",
       "      <td>LogisticRegression</td>\n",
       "      <td>4532.67</td>\n",
       "      <td>3487.41</td>\n",
       "    </tr>\n",
       "    <tr>\n",
       "      <th>1</th>\n",
       "      <td>DecisionTree</td>\n",
       "      <td>2737.05</td>\n",
       "      <td>2041.92</td>\n",
       "    </tr>\n",
       "    <tr>\n",
       "      <th>2</th>\n",
       "      <td>GradientBoost</td>\n",
       "      <td>2649.37</td>\n",
       "      <td>1973.25</td>\n",
       "    </tr>\n",
       "  </tbody>\n",
       "</table>\n",
       "</div>"
      ],
      "text/plain": [
       "            Technique     RMSE      MAE\n",
       "0  LogisticRegression  4532.67  3487.41\n",
       "1        DecisionTree  2737.05  2041.92\n",
       "2       GradientBoost  2649.37  1973.25"
      ]
     },
     "execution_count": 92,
     "metadata": {},
     "output_type": "execute_result"
    }
   ],
   "source": [
    "res_RMSE, res_MAE=[],[]\n",
    "for r in evaluation:\n",
    "    res_RMSE.append(round(r[0],2))\n",
    "    res_MAE.append(round(r[1],2))\n",
    "# Preparing Bar Chart to compare \n",
    "raw_data = {'Technique': ['LogisticRegression', 'DecisionTree', 'GradientBoost'],'RMSE': res_RMSE,'MAE': res_MAE}\n",
    "df = pd.DataFrame(raw_data, columns = ['Technique', 'RMSE', 'MAE'])\n",
    "# Evaluations on Training Data\n",
    "df"
   ]
  },
  {
   "cell_type": "code",
   "execution_count": 93,
   "metadata": {},
   "outputs": [
    {
     "data": {
      "image/png": "[encoded data removed]",
      "text/plain": [
       "<matplotlib.figure.Figure at 0x1295628d0>"
      ]
     },
     "metadata": {},
     "output_type": "display_data"
    }
   ],
   "source": [
    "# Setting the positions and width for the bars\n",
    "pos = list(range(len(df['Technique']))) \n",
    "width = 0.25 \n",
    "# Plotting the bars\n",
    "fig, ax = plt.subplots(figsize=(8,5))\n",
    "\n",
    "# Create a bar for RMSE vs MAE,\n",
    "# ref: https://chrisalbon.com/python/matplotlib_grouped_bar_plot.html\n",
    "plt.bar(pos, df['RMSE'], width,alpha=0.5, color='#EE3224',label=df['Technique'][0]) \n",
    "plt.bar([p + width for p in pos], df['MAE'], width, alpha=0.5, color='#FFC222', label=df['Technique'][2])\n",
    "\n",
    "# Set the y axis label\n",
    "ax.set_ylabel('Score')\n",
    "# Set the chart's title\n",
    "ax.set_title('Black Friday Sale Price Prediction')\n",
    "\n",
    "# Set the position of the x ticks\n",
    "ax.set_xticks([p + 1.25 * width for p in pos])\n",
    "# Set the labels for the x ticks\n",
    "ax.set_xticklabels(df['Technique'])\n",
    "\n",
    "# Setting the x-axis and y-axis limits\n",
    "plt.xlim(min(pos)-width, max(pos)+width*3)\n",
    "plt.ylim([0, max(df['RMSE'] + 1500)] )\n",
    "\n",
    "# Adding the legend and showing the plot\n",
    "plt.legend(['Root Mean Squared Error', 'Mean Absolute Error'], loc='upper left')\n",
    "plt.grid()\n",
    "plt.show()"
   ]
  },
  {
   "cell_type": "code",
   "execution_count": 94,
   "metadata": {},
   "outputs": [
    {
     "name": "stdout",
     "output_type": "stream",
     "text": [
      "Mean purchase price of an Item - 9263.9687\n"
     ]
    }
   ],
   "source": [
    "# Mean purchase price\n",
    "print(\"Mean purchase price of an Item -\",round(df_train_purchase.mean(),4))"
   ]
  },
  {
   "cell_type": "markdown",
   "metadata": {},
   "source": [
    "Considering that the average purchase price of an item is nearly **9264** the predicted prices are roughly within 80% price margin.  "
   ]
  },
  {
   "cell_type": "markdown",
   "metadata": {},
   "source": [
    "### Predicting Purchase price on Test Data"
   ]
  },
  {
   "cell_type": "code",
   "execution_count": 95,
   "metadata": {},
   "outputs": [
    {
     "data": {
      "text/plain": [
       "(233599, 34)"
      ]
     },
     "execution_count": 95,
     "metadata": {},
     "output_type": "execute_result"
    }
   ],
   "source": [
    "# Test dataset - Transformed\n",
    "df_test_trans.shape"
   ]
  },
  {
   "cell_type": "code",
   "execution_count": 107,
   "metadata": {},
   "outputs": [],
   "source": [
    "def generate_predictions(model_repo):\n",
    "    # previously built models\n",
    "    model_type={0: \"Logistic Regression\", 1: \"Decision Tree\", 2: \"Gradient Boost\"}\n",
    "    result_df={}\n",
    "    \n",
    "    for m in range(len(model_repo)):\n",
    "        # testing with few training instances\n",
    "        sample_data = df_test_trans.iloc[:5]\n",
    "        model=model_repo[m][0]\n",
    "\n",
    "        # testing with few training instances\n",
    "        print(\"Testing {0} Model:\".format(model_type[m]))\n",
    "        print(\"Predictions:\\t\",list(model.predict(sample_data)))\n",
    "        \n",
    "        result = model.predict(df_test_trans)\n",
    "        #retur\n",
    "        result_df[model_type[m]]= list(result)\n",
    "    return result_df"
   ]
  },
  {
   "cell_type": "code",
   "execution_count": 108,
   "metadata": {},
   "outputs": [
    {
     "name": "stdout",
     "output_type": "stream",
     "text": [
      "Testing Logistic Regression Model:\n",
      "Predictions:\t [12832.0, 10299.0, 7646.0, 7865.0, 9768.0]\n",
      "Testing Decision Tree Model:\n",
      "Predictions:\t [15836.491993373827, 9957.7953456536616, 6367.8918300054956, 2125.7727272727275, 2897.3010204081634]\n",
      "Testing Gradient Boost Model:\n",
      "Predictions:\t [16192.131962798878, 9641.7566499713939, 6862.1674554394149, 2884.3125725931995, 2999.8859309303471]\n"
     ]
    }
   ],
   "source": [
    "# generating predictions\n",
    "result_df=generate_predictions(models)"
   ]
  },
  {
   "cell_type": "markdown",
   "metadata": {},
   "source": [
    "### Displaying Predicted Results"
   ]
  },
  {
   "cell_type": "code",
   "execution_count": 109,
   "metadata": {},
   "outputs": [
    {
     "data": {
      "text/html": [
       "<div>\n",
       "<style>\n",
       "    .dataframe thead tr:only-child th {\n",
       "        text-align: right;\n",
       "    }\n",
       "\n",
       "    .dataframe thead th {\n",
       "        text-align: left;\n",
       "    }\n",
       "\n",
       "    .dataframe tbody tr th {\n",
       "        vertical-align: top;\n",
       "    }\n",
       "</style>\n",
       "<table border=\"1\" class=\"dataframe\">\n",
       "  <thead>\n",
       "    <tr style=\"text-align: right;\">\n",
       "      <th></th>\n",
       "      <th>User_id</th>\n",
       "      <th>Product_id</th>\n",
       "      <th>Logistic Regression</th>\n",
       "      <th>Decision Tree</th>\n",
       "      <th>Gradient Boost</th>\n",
       "    </tr>\n",
       "  </thead>\n",
       "  <tbody>\n",
       "    <tr>\n",
       "      <th>0</th>\n",
       "      <td>1000004</td>\n",
       "      <td>P00128942</td>\n",
       "      <td>12832.0</td>\n",
       "      <td>15836.491993</td>\n",
       "      <td>16192.131963</td>\n",
       "    </tr>\n",
       "    <tr>\n",
       "      <th>1</th>\n",
       "      <td>1000009</td>\n",
       "      <td>P00113442</td>\n",
       "      <td>10299.0</td>\n",
       "      <td>9957.795346</td>\n",
       "      <td>9641.756650</td>\n",
       "    </tr>\n",
       "    <tr>\n",
       "      <th>2</th>\n",
       "      <td>1000010</td>\n",
       "      <td>P00288442</td>\n",
       "      <td>7646.0</td>\n",
       "      <td>6367.891830</td>\n",
       "      <td>6862.167455</td>\n",
       "    </tr>\n",
       "    <tr>\n",
       "      <th>3</th>\n",
       "      <td>1000010</td>\n",
       "      <td>P00145342</td>\n",
       "      <td>7865.0</td>\n",
       "      <td>2125.772727</td>\n",
       "      <td>2884.312573</td>\n",
       "    </tr>\n",
       "    <tr>\n",
       "      <th>4</th>\n",
       "      <td>1000011</td>\n",
       "      <td>P00053842</td>\n",
       "      <td>9768.0</td>\n",
       "      <td>2897.301020</td>\n",
       "      <td>2999.885931</td>\n",
       "    </tr>\n",
       "    <tr>\n",
       "      <th>5</th>\n",
       "      <td>1000013</td>\n",
       "      <td>P00350442</td>\n",
       "      <td>10882.0</td>\n",
       "      <td>11052.486772</td>\n",
       "      <td>10424.620655</td>\n",
       "    </tr>\n",
       "    <tr>\n",
       "      <th>6</th>\n",
       "      <td>1000013</td>\n",
       "      <td>P00155442</td>\n",
       "      <td>11124.0</td>\n",
       "      <td>12530.371600</td>\n",
       "      <td>12368.773761</td>\n",
       "    </tr>\n",
       "    <tr>\n",
       "      <th>7</th>\n",
       "      <td>1000013</td>\n",
       "      <td>P0094542</td>\n",
       "      <td>10016.0</td>\n",
       "      <td>11052.486772</td>\n",
       "      <td>9396.741973</td>\n",
       "    </tr>\n",
       "    <tr>\n",
       "      <th>8</th>\n",
       "      <td>1000015</td>\n",
       "      <td>P00161842</td>\n",
       "      <td>6466.0</td>\n",
       "      <td>15479.330688</td>\n",
       "      <td>14791.330158</td>\n",
       "    </tr>\n",
       "    <tr>\n",
       "      <th>9</th>\n",
       "      <td>1000022</td>\n",
       "      <td>P00067942</td>\n",
       "      <td>8894.0</td>\n",
       "      <td>6255.423065</td>\n",
       "      <td>5741.565970</td>\n",
       "    </tr>\n",
       "  </tbody>\n",
       "</table>\n",
       "</div>"
      ],
      "text/plain": [
       "   User_id Product_id  Logistic Regression  Decision Tree  Gradient Boost\n",
       "0  1000004  P00128942              12832.0   15836.491993    16192.131963\n",
       "1  1000009  P00113442              10299.0    9957.795346     9641.756650\n",
       "2  1000010  P00288442               7646.0    6367.891830     6862.167455\n",
       "3  1000010  P00145342               7865.0    2125.772727     2884.312573\n",
       "4  1000011  P00053842               9768.0    2897.301020     2999.885931\n",
       "5  1000013  P00350442              10882.0   11052.486772    10424.620655\n",
       "6  1000013  P00155442              11124.0   12530.371600    12368.773761\n",
       "7  1000013   P0094542              10016.0   11052.486772     9396.741973\n",
       "8  1000015  P00161842               6466.0   15479.330688    14791.330158\n",
       "9  1000022  P00067942               8894.0    6255.423065     5741.565970"
      ]
     },
     "execution_count": 109,
     "metadata": {},
     "output_type": "execute_result"
    }
   ],
   "source": [
    "result_df['User_id']=df_test_copy.User_ID\n",
    "result_df['Product_id']=df_test_copy.Product_ID\n",
    "df_result = pd.DataFrame(result_df, columns = ['User_id','Product_id','Logistic Regression', 'Decision Tree', 'Gradient Boost'])\n",
    "# resultant Dataframe\n",
    "df_result.head(10)"
   ]
  }
 ],
 "metadata": {
  "kernelspec": {
   "display_name": "Python 3",
   "language": "python",
   "name": "python3"
  },
  "language_info": {
   "codemirror_mode": {
    "name": "ipython",
    "version": 3
   },
   "file_extension": ".py",
   "mimetype": "text/x-python",
   "name": "python",
   "nbconvert_exporter": "python",
   "pygments_lexer": "ipython3",
   "version": "3.6.1"
  }
 },
 "nbformat": 4,
 "nbformat_minor": 2
}
